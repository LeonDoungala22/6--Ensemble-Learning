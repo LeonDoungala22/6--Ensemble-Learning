{
 "cells": [
  {
   "cell_type": "code",
   "execution_count": 1,
   "id": "d86fc815",
   "metadata": {},
   "outputs": [],
   "source": [
    "import pandas as pd\n",
    "import pickle\n",
    "import numpy as np\n",
    "\n",
    "import warnings\n",
    "warnings.filterwarnings(\"ignore\")"
   ]
  },
  {
   "cell_type": "code",
   "execution_count": 2,
   "id": "74bb0ec0",
   "metadata": {},
   "outputs": [],
   "source": [
    "Data = pd.read_csv('Dataset/test.csv', header=0)"
   ]
  },
  {
   "cell_type": "code",
   "execution_count": 3,
   "id": "9297c38e",
   "metadata": {},
   "outputs": [
    {
     "data": {
      "text/plain": [
       "(1022, 11)"
      ]
     },
     "execution_count": 3,
     "metadata": {},
     "output_type": "execute_result"
    }
   ],
   "source": [
    "Data.shape"
   ]
  },
  {
   "cell_type": "code",
   "execution_count": 4,
   "id": "25ed70b9",
   "metadata": {},
   "outputs": [
    {
     "data": {
      "text/html": [
       "<div>\n",
       "<style scoped>\n",
       "    .dataframe tbody tr th:only-of-type {\n",
       "        vertical-align: middle;\n",
       "    }\n",
       "\n",
       "    .dataframe tbody tr th {\n",
       "        vertical-align: top;\n",
       "    }\n",
       "\n",
       "    .dataframe thead th {\n",
       "        text-align: right;\n",
       "    }\n",
       "</style>\n",
       "<table border=\"1\" class=\"dataframe\">\n",
       "  <thead>\n",
       "    <tr style=\"text-align: right;\">\n",
       "      <th></th>\n",
       "      <th>gender</th>\n",
       "      <th>age</th>\n",
       "      <th>hypertension</th>\n",
       "      <th>heart_disease</th>\n",
       "      <th>ever_married</th>\n",
       "      <th>work_type</th>\n",
       "      <th>Residence_type</th>\n",
       "      <th>avg_glucose_level</th>\n",
       "      <th>bmi</th>\n",
       "      <th>smoking_status</th>\n",
       "      <th>stroke</th>\n",
       "    </tr>\n",
       "  </thead>\n",
       "  <tbody>\n",
       "    <tr>\n",
       "      <th>0</th>\n",
       "      <td>Male</td>\n",
       "      <td>44</td>\n",
       "      <td>0</td>\n",
       "      <td>0</td>\n",
       "      <td>Yes</td>\n",
       "      <td>Private</td>\n",
       "      <td>Urban</td>\n",
       "      <td>99.34</td>\n",
       "      <td>33.1</td>\n",
       "      <td>never smoked</td>\n",
       "      <td>0</td>\n",
       "    </tr>\n",
       "    <tr>\n",
       "      <th>1</th>\n",
       "      <td>Male</td>\n",
       "      <td>52</td>\n",
       "      <td>0</td>\n",
       "      <td>0</td>\n",
       "      <td>Yes</td>\n",
       "      <td>Private</td>\n",
       "      <td>Rural</td>\n",
       "      <td>75.77</td>\n",
       "      <td>30.0</td>\n",
       "      <td>formerly smoked</td>\n",
       "      <td>0</td>\n",
       "    </tr>\n",
       "    <tr>\n",
       "      <th>2</th>\n",
       "      <td>Female</td>\n",
       "      <td>0</td>\n",
       "      <td>0</td>\n",
       "      <td>0</td>\n",
       "      <td>No</td>\n",
       "      <td>children</td>\n",
       "      <td>Rural</td>\n",
       "      <td>85.65</td>\n",
       "      <td>17.4</td>\n",
       "      <td>Unknown</td>\n",
       "      <td>0</td>\n",
       "    </tr>\n",
       "    <tr>\n",
       "      <th>3</th>\n",
       "      <td>Male</td>\n",
       "      <td>24</td>\n",
       "      <td>0</td>\n",
       "      <td>0</td>\n",
       "      <td>No</td>\n",
       "      <td>Private</td>\n",
       "      <td>Urban</td>\n",
       "      <td>72.29</td>\n",
       "      <td>22.2</td>\n",
       "      <td>Unknown</td>\n",
       "      <td>0</td>\n",
       "    </tr>\n",
       "    <tr>\n",
       "      <th>4</th>\n",
       "      <td>Male</td>\n",
       "      <td>48</td>\n",
       "      <td>0</td>\n",
       "      <td>0</td>\n",
       "      <td>Yes</td>\n",
       "      <td>Private</td>\n",
       "      <td>Rural</td>\n",
       "      <td>113.84</td>\n",
       "      <td>21.9</td>\n",
       "      <td>never smoked</td>\n",
       "      <td>0</td>\n",
       "    </tr>\n",
       "  </tbody>\n",
       "</table>\n",
       "</div>"
      ],
      "text/plain": [
       "   gender  age  hypertension  heart_disease ever_married work_type  \\\n",
       "0    Male   44             0              0          Yes   Private   \n",
       "1    Male   52             0              0          Yes   Private   \n",
       "2  Female    0             0              0           No  children   \n",
       "3    Male   24             0              0           No   Private   \n",
       "4    Male   48             0              0          Yes   Private   \n",
       "\n",
       "  Residence_type  avg_glucose_level   bmi   smoking_status  stroke  \n",
       "0          Urban              99.34  33.1     never smoked       0  \n",
       "1          Rural              75.77  30.0  formerly smoked       0  \n",
       "2          Rural              85.65  17.4          Unknown       0  \n",
       "3          Urban              72.29  22.2          Unknown       0  \n",
       "4          Rural             113.84  21.9     never smoked       0  "
      ]
     },
     "execution_count": 4,
     "metadata": {},
     "output_type": "execute_result"
    }
   ],
   "source": [
    "Data.head()"
   ]
  },
  {
   "cell_type": "code",
   "execution_count": 5,
   "id": "f7ca7567",
   "metadata": {},
   "outputs": [],
   "source": [
    "Data['hypertension'] = Data['hypertension'].astype('object')\n",
    "Data['heart_disease'] = Data['heart_disease'].astype('object')\n",
    "Data['age'] = Data['age'].astype('int')\n",
    "Data['stroke'] = Data['stroke'].astype('object')"
   ]
  },
  {
   "cell_type": "code",
   "execution_count": 6,
   "id": "89500e39",
   "metadata": {},
   "outputs": [
    {
     "data": {
      "text/plain": [
       "gender                object\n",
       "age                    int32\n",
       "hypertension          object\n",
       "heart_disease         object\n",
       "ever_married          object\n",
       "work_type             object\n",
       "Residence_type        object\n",
       "avg_glucose_level    float64\n",
       "bmi                  float64\n",
       "smoking_status        object\n",
       "stroke                object\n",
       "dtype: object"
      ]
     },
     "execution_count": 6,
     "metadata": {},
     "output_type": "execute_result"
    }
   ],
   "source": [
    "Data.dtypes"
   ]
  },
  {
   "cell_type": "code",
   "execution_count": 7,
   "id": "701dec03",
   "metadata": {},
   "outputs": [],
   "source": [
    "X_test, y_test = Data.drop(columns=['stroke']), Data['stroke']"
   ]
  },
  {
   "cell_type": "code",
   "execution_count": 8,
   "id": "92ad264d",
   "metadata": {},
   "outputs": [],
   "source": [
    "# Load the fitted labelencoder from local OS\n",
    "with open('pickle/OneHotEncoder.pkl', 'rb') as input_file:\n",
    "    encoder = pickle.load(input_file)\n",
    "    \n",
    "# Load the fitted labelencoder from local OS\n",
    "with open('pickle/MinMaxScaler.pkl', 'rb') as input_file:\n",
    "    scaler = pickle.load(input_file)\n",
    "    \n",
    "# Load the fitted labelencoder from local OS\n",
    "with open('pickle/PowerTransformer.pkl', 'rb') as input_file:\n",
    "    transformer = pickle.load(input_file)"
   ]
  },
  {
   "cell_type": "code",
   "execution_count": 9,
   "id": "ceef19b5",
   "metadata": {},
   "outputs": [],
   "source": [
    "# Load the fitted model from local OS\n",
    "with open('pickle/model.pkl', 'rb') as input_file:\n",
    "    model = pickle.load(input_file)"
   ]
  },
  {
   "cell_type": "code",
   "execution_count": 10,
   "id": "9827d5ee",
   "metadata": {},
   "outputs": [],
   "source": [
    "# Create our imputer to replace missing values with the mean e.g.\n",
    "X_test['bmi'].fillna(value=X_test['bmi'].mean(), inplace=True)"
   ]
  },
  {
   "cell_type": "code",
   "execution_count": 11,
   "id": "bad2e6f6",
   "metadata": {},
   "outputs": [],
   "source": [
    "#Separate numerical , and categorical variables \n",
    "\n",
    "X_test_numeric_data = X_test.select_dtypes(include=[np.number])\n",
    "X_test_categorical_data = X_test.select_dtypes(exclude=[np.number])"
   ]
  },
  {
   "cell_type": "code",
   "execution_count": 12,
   "id": "76967fe1",
   "metadata": {},
   "outputs": [
    {
     "data": {
      "text/plain": [
       "((1022, 3), (1022, 7))"
      ]
     },
     "execution_count": 12,
     "metadata": {},
     "output_type": "execute_result"
    }
   ],
   "source": [
    "X_test_numeric_data.shape, X_test_categorical_data.shape"
   ]
  },
  {
   "cell_type": "code",
   "execution_count": 13,
   "id": "5d8479af",
   "metadata": {},
   "outputs": [],
   "source": [
    "X_test_numeric_data = pd.DataFrame(data=transformer.transform(X_test_numeric_data), columns=X_test_numeric_data.columns)\n",
    "X_test_numeric_data = pd.DataFrame(data=scaler.transform(X_test_numeric_data), columns=X_test_numeric_data.columns)"
   ]
  },
  {
   "cell_type": "code",
   "execution_count": 14,
   "id": "724f5009",
   "metadata": {},
   "outputs": [],
   "source": [
    "X_test_categorical_data =pd.DataFrame(data=encoder.transform(X_test_categorical_data), columns=encoder.get_feature_names_out())"
   ]
  },
  {
   "cell_type": "code",
   "execution_count": 15,
   "id": "5214b0a1",
   "metadata": {},
   "outputs": [],
   "source": [
    "pp_X_test = pd.merge(left=X_test_numeric_data, right=X_test_categorical_data, how='inner',\n",
    "        left_index=True, right_index=True)"
   ]
  },
  {
   "cell_type": "code",
   "execution_count": 16,
   "id": "40a61c10",
   "metadata": {},
   "outputs": [],
   "source": [
    "y_pred = model.predict(X=pp_X_test)"
   ]
  },
  {
   "cell_type": "code",
   "execution_count": 17,
   "id": "7c7ff4f2",
   "metadata": {},
   "outputs": [],
   "source": [
    "from sklearn.metrics import classification_report"
   ]
  },
  {
   "cell_type": "code",
   "execution_count": 18,
   "id": "a813b1bf",
   "metadata": {},
   "outputs": [
    {
     "name": "stdout",
     "output_type": "stream",
     "text": [
      "              precision    recall  f1-score   support\n",
      "\n",
      "           0       0.96      0.95      0.96       974\n",
      "           1       0.10      0.10      0.10        48\n",
      "\n",
      "    accuracy                           0.91      1022\n",
      "   macro avg       0.53      0.53      0.53      1022\n",
      "weighted avg       0.92      0.91      0.92      1022\n",
      "\n"
     ]
    }
   ],
   "source": [
    "print(classification_report(y_true=y_test.astype('int').values, y_pred=y_pred))"
   ]
  },
  {
   "cell_type": "code",
   "execution_count": null,
   "id": "f3fa358a",
   "metadata": {},
   "outputs": [],
   "source": []
  }
 ],
 "metadata": {
  "kernelspec": {
   "display_name": "Python 3 (ipykernel)",
   "language": "python",
   "name": "python3"
  },
  "language_info": {
   "codemirror_mode": {
    "name": "ipython",
    "version": 3
   },
   "file_extension": ".py",
   "mimetype": "text/x-python",
   "name": "python",
   "nbconvert_exporter": "python",
   "pygments_lexer": "ipython3",
   "version": "3.9.12"
  }
 },
 "nbformat": 4,
 "nbformat_minor": 5
}
