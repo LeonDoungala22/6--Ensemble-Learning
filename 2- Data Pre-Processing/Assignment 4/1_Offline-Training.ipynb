{
 "cells": [
  {
   "cell_type": "markdown",
   "id": "6adaf159",
   "metadata": {},
   "source": [
    "# Data Pre-Processing: assignment #4 - How to preprocess numerical and categorical variables together?"
   ]
  },
  {
   "cell_type": "markdown",
   "id": "7998de3d",
   "metadata": {},
   "source": [
    "#### Assignement Guide"
   ]
  },
  {
   "cell_type": "code",
   "execution_count": 1,
   "id": "a72f86b0",
   "metadata": {},
   "outputs": [],
   "source": [
    "#Assignement Guide\n",
    "import Utilities as Util\n",
    "\n",
    "#file_Description_name = \"AssigmentGuide.txt\"\n",
    "#Util.read_txt(file_Description_name)"
   ]
  },
  {
   "cell_type": "markdown",
   "id": "54969bd3",
   "metadata": {},
   "source": [
    "#### Dataset description"
   ]
  },
  {
   "cell_type": "code",
   "execution_count": 2,
   "id": "176aa2f0",
   "metadata": {},
   "outputs": [],
   "source": [
    "#Dataset description\n",
    "\n",
    "#file_Description_name = \"Dataset/DatasetDescription.txt\"\n",
    "#Util.read_txt(file_Description_name)"
   ]
  },
  {
   "cell_type": "code",
   "execution_count": 3,
   "id": "9230b5db",
   "metadata": {},
   "outputs": [],
   "source": [
    "import pandas as pd\n",
    "import numpy as np\n",
    "import matplotlib.pyplot as plt\n",
    "import missingno as msno\n",
    "import json\n",
    "\n",
    "from sklearn.model_selection import train_test_split\n",
    "from sklearn.preprocessing import MinMaxScaler\n",
    "from sklearn.preprocessing import OneHotEncoder \n",
    "from sklearn.preprocessing import PowerTransformer\n",
    "\n",
    "from sklearn.tree import DecisionTreeClassifier\n",
    "from sklearn.pipeline import make_pipeline\n",
    "\n",
    "import pickle\n",
    "from scipy.stats import norm\n",
    "import warnings\n",
    "warnings.filterwarnings(\"ignore\")"
   ]
  },
  {
   "cell_type": "code",
   "execution_count": 4,
   "id": "31b6f494",
   "metadata": {},
   "outputs": [
    {
     "data": {
      "text/html": [
       "<div>\n",
       "<style scoped>\n",
       "    .dataframe tbody tr th:only-of-type {\n",
       "        vertical-align: middle;\n",
       "    }\n",
       "\n",
       "    .dataframe tbody tr th {\n",
       "        vertical-align: top;\n",
       "    }\n",
       "\n",
       "    .dataframe thead th {\n",
       "        text-align: right;\n",
       "    }\n",
       "</style>\n",
       "<table border=\"1\" class=\"dataframe\">\n",
       "  <thead>\n",
       "    <tr style=\"text-align: right;\">\n",
       "      <th></th>\n",
       "      <th>id</th>\n",
       "      <th>gender</th>\n",
       "      <th>age</th>\n",
       "      <th>hypertension</th>\n",
       "      <th>heart_disease</th>\n",
       "      <th>ever_married</th>\n",
       "      <th>work_type</th>\n",
       "      <th>Residence_type</th>\n",
       "      <th>avg_glucose_level</th>\n",
       "      <th>bmi</th>\n",
       "      <th>smoking_status</th>\n",
       "      <th>stroke</th>\n",
       "    </tr>\n",
       "  </thead>\n",
       "  <tbody>\n",
       "    <tr>\n",
       "      <th>0</th>\n",
       "      <td>9046</td>\n",
       "      <td>Male</td>\n",
       "      <td>67.0</td>\n",
       "      <td>0</td>\n",
       "      <td>1</td>\n",
       "      <td>Yes</td>\n",
       "      <td>Private</td>\n",
       "      <td>Urban</td>\n",
       "      <td>228.69</td>\n",
       "      <td>36.6</td>\n",
       "      <td>formerly smoked</td>\n",
       "      <td>1</td>\n",
       "    </tr>\n",
       "    <tr>\n",
       "      <th>1</th>\n",
       "      <td>51676</td>\n",
       "      <td>Female</td>\n",
       "      <td>61.0</td>\n",
       "      <td>0</td>\n",
       "      <td>0</td>\n",
       "      <td>Yes</td>\n",
       "      <td>Self-employed</td>\n",
       "      <td>Rural</td>\n",
       "      <td>202.21</td>\n",
       "      <td>NaN</td>\n",
       "      <td>never smoked</td>\n",
       "      <td>1</td>\n",
       "    </tr>\n",
       "    <tr>\n",
       "      <th>2</th>\n",
       "      <td>31112</td>\n",
       "      <td>Male</td>\n",
       "      <td>80.0</td>\n",
       "      <td>0</td>\n",
       "      <td>1</td>\n",
       "      <td>Yes</td>\n",
       "      <td>Private</td>\n",
       "      <td>Rural</td>\n",
       "      <td>105.92</td>\n",
       "      <td>32.5</td>\n",
       "      <td>never smoked</td>\n",
       "      <td>1</td>\n",
       "    </tr>\n",
       "    <tr>\n",
       "      <th>3</th>\n",
       "      <td>60182</td>\n",
       "      <td>Female</td>\n",
       "      <td>49.0</td>\n",
       "      <td>0</td>\n",
       "      <td>0</td>\n",
       "      <td>Yes</td>\n",
       "      <td>Private</td>\n",
       "      <td>Urban</td>\n",
       "      <td>171.23</td>\n",
       "      <td>34.4</td>\n",
       "      <td>smokes</td>\n",
       "      <td>1</td>\n",
       "    </tr>\n",
       "    <tr>\n",
       "      <th>4</th>\n",
       "      <td>1665</td>\n",
       "      <td>Female</td>\n",
       "      <td>79.0</td>\n",
       "      <td>1</td>\n",
       "      <td>0</td>\n",
       "      <td>Yes</td>\n",
       "      <td>Self-employed</td>\n",
       "      <td>Rural</td>\n",
       "      <td>174.12</td>\n",
       "      <td>24.0</td>\n",
       "      <td>never smoked</td>\n",
       "      <td>1</td>\n",
       "    </tr>\n",
       "  </tbody>\n",
       "</table>\n",
       "</div>"
      ],
      "text/plain": [
       "      id  gender   age  hypertension  heart_disease ever_married  \\\n",
       "0   9046    Male  67.0             0              1          Yes   \n",
       "1  51676  Female  61.0             0              0          Yes   \n",
       "2  31112    Male  80.0             0              1          Yes   \n",
       "3  60182  Female  49.0             0              0          Yes   \n",
       "4   1665  Female  79.0             1              0          Yes   \n",
       "\n",
       "       work_type Residence_type  avg_glucose_level   bmi   smoking_status  \\\n",
       "0        Private          Urban             228.69  36.6  formerly smoked   \n",
       "1  Self-employed          Rural             202.21   NaN     never smoked   \n",
       "2        Private          Rural             105.92  32.5     never smoked   \n",
       "3        Private          Urban             171.23  34.4           smokes   \n",
       "4  Self-employed          Rural             174.12  24.0     never smoked   \n",
       "\n",
       "   stroke  \n",
       "0       1  \n",
       "1       1  \n",
       "2       1  \n",
       "3       1  \n",
       "4       1  "
      ]
     },
     "execution_count": 4,
     "metadata": {},
     "output_type": "execute_result"
    }
   ],
   "source": [
    "#Read Dataset\n",
    "Dataset = pd.read_csv('Dataset/healthcare-dataset-stroke-data.csv')\n",
    "Dataset.head()"
   ]
  },
  {
   "cell_type": "code",
   "execution_count": 5,
   "id": "3911e72d",
   "metadata": {},
   "outputs": [],
   "source": [
    "#remove id colummns from dataset\n",
    "Dataset=Dataset.drop([\"id\"], axis = 1)"
   ]
  },
  {
   "cell_type": "code",
   "execution_count": 6,
   "id": "fbd108bc",
   "metadata": {},
   "outputs": [],
   "source": [
    "#Verify duplicates\n",
    "Dataset = Dataset.drop_duplicates()"
   ]
  },
  {
   "cell_type": "code",
   "execution_count": 7,
   "id": "e515eadd",
   "metadata": {},
   "outputs": [
    {
     "data": {
      "text/plain": [
       "gender                 0\n",
       "age                    0\n",
       "hypertension           0\n",
       "heart_disease          0\n",
       "ever_married           0\n",
       "work_type              0\n",
       "Residence_type         0\n",
       "avg_glucose_level      0\n",
       "bmi                  201\n",
       "smoking_status         0\n",
       "stroke                 0\n",
       "dtype: int64"
      ]
     },
     "execution_count": 7,
     "metadata": {},
     "output_type": "execute_result"
    }
   ],
   "source": [
    "#Count Nan values\n",
    "Dataset.isnull().sum()"
   ]
  },
  {
   "cell_type": "code",
   "execution_count": 8,
   "id": "91041873",
   "metadata": {},
   "outputs": [
    {
     "data": {
      "text/plain": [
       "gender                object\n",
       "age                  float64\n",
       "hypertension           int64\n",
       "heart_disease          int64\n",
       "ever_married          object\n",
       "work_type             object\n",
       "Residence_type        object\n",
       "avg_glucose_level    float64\n",
       "bmi                  float64\n",
       "smoking_status        object\n",
       "stroke                 int64\n",
       "dtype: object"
      ]
     },
     "execution_count": 8,
     "metadata": {},
     "output_type": "execute_result"
    }
   ],
   "source": [
    "Dataset.dtypes"
   ]
  },
  {
   "cell_type": "code",
   "execution_count": 9,
   "id": "377f2de6",
   "metadata": {},
   "outputs": [],
   "source": [
    "Dataset['hypertension'] = Dataset['hypertension'].astype('object')\n",
    "Dataset['heart_disease'] = Dataset['heart_disease'].astype('object')\n",
    "Dataset['age'] = Dataset['age'].astype('int')\n",
    "Dataset['stroke'] = Dataset['stroke'].astype('object')"
   ]
  },
  {
   "cell_type": "markdown",
   "id": "fe8bf18e",
   "metadata": {},
   "source": [
    "### Data Analisis"
   ]
  },
  {
   "cell_type": "code",
   "execution_count": 10,
   "id": "e3e830f3",
   "metadata": {},
   "outputs": [
    {
     "data": {
      "text/html": [
       "<div>\n",
       "<style scoped>\n",
       "    .dataframe tbody tr th:only-of-type {\n",
       "        vertical-align: middle;\n",
       "    }\n",
       "\n",
       "    .dataframe tbody tr th {\n",
       "        vertical-align: top;\n",
       "    }\n",
       "\n",
       "    .dataframe thead th {\n",
       "        text-align: right;\n",
       "    }\n",
       "</style>\n",
       "<table border=\"1\" class=\"dataframe\">\n",
       "  <thead>\n",
       "    <tr style=\"text-align: right;\">\n",
       "      <th></th>\n",
       "      <th>age</th>\n",
       "      <th>avg_glucose_level</th>\n",
       "      <th>bmi</th>\n",
       "    </tr>\n",
       "  </thead>\n",
       "  <tbody>\n",
       "    <tr>\n",
       "      <th>count</th>\n",
       "      <td>5110.000000</td>\n",
       "      <td>5110.000000</td>\n",
       "      <td>4909.000000</td>\n",
       "    </tr>\n",
       "    <tr>\n",
       "      <th>mean</th>\n",
       "      <td>43.215264</td>\n",
       "      <td>106.147677</td>\n",
       "      <td>28.893237</td>\n",
       "    </tr>\n",
       "    <tr>\n",
       "      <th>std</th>\n",
       "      <td>22.633866</td>\n",
       "      <td>45.283560</td>\n",
       "      <td>7.854067</td>\n",
       "    </tr>\n",
       "    <tr>\n",
       "      <th>min</th>\n",
       "      <td>0.000000</td>\n",
       "      <td>55.120000</td>\n",
       "      <td>10.300000</td>\n",
       "    </tr>\n",
       "    <tr>\n",
       "      <th>25%</th>\n",
       "      <td>25.000000</td>\n",
       "      <td>77.245000</td>\n",
       "      <td>23.500000</td>\n",
       "    </tr>\n",
       "    <tr>\n",
       "      <th>50%</th>\n",
       "      <td>45.000000</td>\n",
       "      <td>91.885000</td>\n",
       "      <td>28.100000</td>\n",
       "    </tr>\n",
       "    <tr>\n",
       "      <th>75%</th>\n",
       "      <td>61.000000</td>\n",
       "      <td>114.090000</td>\n",
       "      <td>33.100000</td>\n",
       "    </tr>\n",
       "    <tr>\n",
       "      <th>max</th>\n",
       "      <td>82.000000</td>\n",
       "      <td>271.740000</td>\n",
       "      <td>97.600000</td>\n",
       "    </tr>\n",
       "  </tbody>\n",
       "</table>\n",
       "</div>"
      ],
      "text/plain": [
       "               age  avg_glucose_level          bmi\n",
       "count  5110.000000        5110.000000  4909.000000\n",
       "mean     43.215264         106.147677    28.893237\n",
       "std      22.633866          45.283560     7.854067\n",
       "min       0.000000          55.120000    10.300000\n",
       "25%      25.000000          77.245000    23.500000\n",
       "50%      45.000000          91.885000    28.100000\n",
       "75%      61.000000         114.090000    33.100000\n",
       "max      82.000000         271.740000    97.600000"
      ]
     },
     "execution_count": 10,
     "metadata": {},
     "output_type": "execute_result"
    }
   ],
   "source": [
    "#Dataset description\n",
    "Dataset.describe()"
   ]
  },
  {
   "cell_type": "code",
   "execution_count": 11,
   "id": "5d5e8e00",
   "metadata": {},
   "outputs": [
    {
     "data": {
      "text/html": [
       "<div>\n",
       "<style scoped>\n",
       "    .dataframe tbody tr th:only-of-type {\n",
       "        vertical-align: middle;\n",
       "    }\n",
       "\n",
       "    .dataframe tbody tr th {\n",
       "        vertical-align: top;\n",
       "    }\n",
       "\n",
       "    .dataframe thead th {\n",
       "        text-align: right;\n",
       "    }\n",
       "</style>\n",
       "<table border=\"1\" class=\"dataframe\">\n",
       "  <thead>\n",
       "    <tr style=\"text-align: right;\">\n",
       "      <th></th>\n",
       "      <th>gender</th>\n",
       "      <th>age</th>\n",
       "      <th>hypertension</th>\n",
       "      <th>heart_disease</th>\n",
       "      <th>ever_married</th>\n",
       "      <th>work_type</th>\n",
       "      <th>Residence_type</th>\n",
       "      <th>avg_glucose_level</th>\n",
       "      <th>bmi</th>\n",
       "      <th>smoking_status</th>\n",
       "      <th>stroke</th>\n",
       "    </tr>\n",
       "  </thead>\n",
       "  <tbody>\n",
       "    <tr>\n",
       "      <th>0</th>\n",
       "      <td>Female</td>\n",
       "      <td>78.0</td>\n",
       "      <td>0</td>\n",
       "      <td>0</td>\n",
       "      <td>Yes</td>\n",
       "      <td>Private</td>\n",
       "      <td>Urban</td>\n",
       "      <td>101.45</td>\n",
       "      <td>27.3</td>\n",
       "      <td>never smoked</td>\n",
       "      <td>1</td>\n",
       "    </tr>\n",
       "    <tr>\n",
       "      <th>1</th>\n",
       "      <td>NaN</td>\n",
       "      <td>NaN</td>\n",
       "      <td>NaN</td>\n",
       "      <td>NaN</td>\n",
       "      <td>NaN</td>\n",
       "      <td>NaN</td>\n",
       "      <td>NaN</td>\n",
       "      <td>NaN</td>\n",
       "      <td>31.4</td>\n",
       "      <td>NaN</td>\n",
       "      <td>NaN</td>\n",
       "    </tr>\n",
       "  </tbody>\n",
       "</table>\n",
       "</div>"
      ],
      "text/plain": [
       "   gender   age hypertension heart_disease ever_married work_type  \\\n",
       "0  Female  78.0            0             0          Yes   Private   \n",
       "1     NaN   NaN          NaN           NaN          NaN       NaN   \n",
       "\n",
       "  Residence_type  avg_glucose_level   bmi smoking_status stroke  \n",
       "0          Urban             101.45  27.3   never smoked      1  \n",
       "1            NaN                NaN  31.4            NaN    NaN  "
      ]
     },
     "execution_count": 11,
     "metadata": {},
     "output_type": "execute_result"
    }
   ],
   "source": [
    "#mode \n",
    "aa = Dataset[Dataset['stroke']>0]\n",
    "aa.mode()"
   ]
  },
  {
   "cell_type": "code",
   "execution_count": 12,
   "id": "82a189b9",
   "metadata": {},
   "outputs": [
    {
     "name": "stdout",
     "output_type": "stream",
     "text": [
      "Based on BMI : body mass index\n"
     ]
    },
    {
     "data": {
      "image/png": "[encoded data removed]",
      "text/plain": [
       "<Figure size 720x576 with 1 Axes>"
      ]
     },
     "metadata": {
      "needs_background": "light"
     },
     "output_type": "display_data"
    }
   ],
   "source": [
    "# Plotting the histogram.\n",
    "print('Based on BMI : body mass index')\n",
    "\n",
    "plt.figure(figsize=(10,8))\n",
    "Dataset_test = Dataset[Dataset['stroke']>0]\n",
    "plt.hist(Dataset_test['bmi'], bins=50, density=True, alpha=0.9, color='b')\n",
    "  \n",
    "plt.show()"
   ]
  },
  {
   "cell_type": "markdown",
   "id": "fa27253f",
   "metadata": {},
   "source": [
    "This normal distribution is used to show whether a patient is likely to get stroke based on **BMI : body mass index** input parameters ."
   ]
  },
  {
   "cell_type": "code",
   "execution_count": 13,
   "id": "11e11ddf",
   "metadata": {},
   "outputs": [
    {
     "name": "stdout",
     "output_type": "stream",
     "text": [
      "In base of : avg_glucose_level\n"
     ]
    },
    {
     "data": {
      "image/png": "[encoded data removed]",
      "text/plain": [
       "<Figure size 720x576 with 1 Axes>"
      ]
     },
     "metadata": {
      "needs_background": "light"
     },
     "output_type": "display_data"
    }
   ],
   "source": [
    "# Plotting the histogram.\n",
    "print('In base of : avg_glucose_level')\n",
    "\n",
    "plt.figure(figsize=(10,8))\n",
    "Dataset_test = Dataset[Dataset['stroke']>0]\n",
    "plt.hist(Dataset_test['avg_glucose_level'], bins=50, density=True, alpha=0.9, color='g')\n",
    "  \n",
    "plt.show()"
   ]
  },
  {
   "cell_type": "markdown",
   "id": "ff5be7ad",
   "metadata": {},
   "source": [
    "This normal distribution is used to show whether a patient is likely to get stroke based on **avg_glucose_level** input parameters ."
   ]
  },
  {
   "cell_type": "code",
   "execution_count": 14,
   "id": "17994088",
   "metadata": {},
   "outputs": [
    {
     "name": "stdout",
     "output_type": "stream",
     "text": [
      "In base of : age past info  \n"
     ]
    },
    {
     "data": {
      "image/png": "[encoded data removed]",
      "text/plain": [
       "<Figure size 720x576 with 1 Axes>"
      ]
     },
     "metadata": {
      "needs_background": "light"
     },
     "output_type": "display_data"
    }
   ],
   "source": [
    "# Plotting the histogram.\n",
    "print('In base of : age past info  ')\n",
    "\n",
    "plt.figure(figsize=(10,8))\n",
    "Dataset_test = Dataset[Dataset['stroke']>0]\n",
    "plt.hist(Dataset_test['age'], bins=50, density=True, alpha=0.9, color='r')\n",
    "  \n",
    "plt.show()"
   ]
  },
  {
   "cell_type": "markdown",
   "id": "42ce1124",
   "metadata": {},
   "source": [
    "This normal distribution is used to show whether a patient is likely to get stroke based on **age** input parameters ."
   ]
  },
  {
   "cell_type": "code",
   "execution_count": 15,
   "id": "c33a52b6",
   "metadata": {},
   "outputs": [
    {
     "data": {
      "text/plain": [
       "array([<AxesSubplot:ylabel='stroke'>], dtype=object)"
      ]
     },
     "execution_count": 15,
     "metadata": {},
     "output_type": "execute_result"
    },
    {
     "data": {
      "image/png": "[encoded data removed]",
      "text/plain": [
       "<Figure size 720x576 with 1 Axes>"
      ]
     },
     "metadata": {},
     "output_type": "display_data"
    }
   ],
   "source": [
    "Dataset[['gender','stroke']].groupby('gender').sum().plot.pie(subplots=True,figsize=(10, 8))"
   ]
  },
  {
   "cell_type": "code",
   "execution_count": 16,
   "id": "3639f472",
   "metadata": {},
   "outputs": [],
   "source": [
    "train, test = train_test_split(Dataset, shuffle=True, test_size=0.2, random_state=50)\n",
    "test.to_csv('Dataset/test.csv', header=True, index=False, sep=',')"
   ]
  },
  {
   "cell_type": "code",
   "execution_count": 17,
   "id": "a1361ec1",
   "metadata": {},
   "outputs": [
    {
     "data": {
      "text/plain": [
       "<AxesSubplot:>"
      ]
     },
     "execution_count": 17,
     "metadata": {},
     "output_type": "execute_result"
    },
    {
     "data": {
      "image/png": "[encoded data removed]",
      "text/plain": [
       "<Figure size 432x288 with 1 Axes>"
      ]
     },
     "metadata": {
      "needs_background": "light"
     },
     "output_type": "display_data"
    }
   ],
   "source": [
    "train.dtypes.value_counts().plot.barh()"
   ]
  },
  {
   "cell_type": "code",
   "execution_count": 18,
   "id": "677ea41d",
   "metadata": {},
   "outputs": [
    {
     "data": {
      "text/plain": [
       "((4088, 11), (1022, 11))"
      ]
     },
     "execution_count": 18,
     "metadata": {},
     "output_type": "execute_result"
    }
   ],
   "source": [
    "train.shape , test.shape"
   ]
  },
  {
   "cell_type": "code",
   "execution_count": 19,
   "id": "ee793b27",
   "metadata": {},
   "outputs": [],
   "source": [
    "#Convert in Dataframe\n",
    "train = pd.DataFrame(train)"
   ]
  },
  {
   "cell_type": "code",
   "execution_count": 20,
   "id": "a14bee20",
   "metadata": {},
   "outputs": [
    {
     "data": {
      "text/plain": [
       "object     8\n",
       "float64    2\n",
       "int32      1\n",
       "dtype: int64"
      ]
     },
     "execution_count": 20,
     "metadata": {},
     "output_type": "execute_result"
    }
   ],
   "source": [
    "train.dtypes.value_counts()"
   ]
  },
  {
   "cell_type": "code",
   "execution_count": 21,
   "id": "acb615f0",
   "metadata": {},
   "outputs": [
    {
     "data": {
      "text/html": [
       "<div>\n",
       "<style scoped>\n",
       "    .dataframe tbody tr th:only-of-type {\n",
       "        vertical-align: middle;\n",
       "    }\n",
       "\n",
       "    .dataframe tbody tr th {\n",
       "        vertical-align: top;\n",
       "    }\n",
       "\n",
       "    .dataframe thead th {\n",
       "        text-align: right;\n",
       "    }\n",
       "</style>\n",
       "<table border=\"1\" class=\"dataframe\">\n",
       "  <thead>\n",
       "    <tr style=\"text-align: right;\">\n",
       "      <th></th>\n",
       "      <th>gender</th>\n",
       "      <th>age</th>\n",
       "      <th>hypertension</th>\n",
       "      <th>heart_disease</th>\n",
       "      <th>ever_married</th>\n",
       "      <th>work_type</th>\n",
       "      <th>Residence_type</th>\n",
       "      <th>avg_glucose_level</th>\n",
       "      <th>bmi</th>\n",
       "      <th>smoking_status</th>\n",
       "      <th>stroke</th>\n",
       "    </tr>\n",
       "  </thead>\n",
       "  <tbody>\n",
       "    <tr>\n",
       "      <th>1256</th>\n",
       "      <td>Male</td>\n",
       "      <td>63</td>\n",
       "      <td>0</td>\n",
       "      <td>0</td>\n",
       "      <td>Yes</td>\n",
       "      <td>Self-employed</td>\n",
       "      <td>Rural</td>\n",
       "      <td>78.43</td>\n",
       "      <td>18.8</td>\n",
       "      <td>never smoked</td>\n",
       "      <td>0</td>\n",
       "    </tr>\n",
       "    <tr>\n",
       "      <th>2477</th>\n",
       "      <td>Female</td>\n",
       "      <td>34</td>\n",
       "      <td>1</td>\n",
       "      <td>0</td>\n",
       "      <td>Yes</td>\n",
       "      <td>Self-employed</td>\n",
       "      <td>Urban</td>\n",
       "      <td>100.61</td>\n",
       "      <td>NaN</td>\n",
       "      <td>Unknown</td>\n",
       "      <td>0</td>\n",
       "    </tr>\n",
       "    <tr>\n",
       "      <th>3910</th>\n",
       "      <td>Male</td>\n",
       "      <td>31</td>\n",
       "      <td>0</td>\n",
       "      <td>0</td>\n",
       "      <td>Yes</td>\n",
       "      <td>Govt_job</td>\n",
       "      <td>Urban</td>\n",
       "      <td>65.70</td>\n",
       "      <td>30.4</td>\n",
       "      <td>formerly smoked</td>\n",
       "      <td>0</td>\n",
       "    </tr>\n",
       "    <tr>\n",
       "      <th>3132</th>\n",
       "      <td>Male</td>\n",
       "      <td>11</td>\n",
       "      <td>0</td>\n",
       "      <td>0</td>\n",
       "      <td>No</td>\n",
       "      <td>children</td>\n",
       "      <td>Rural</td>\n",
       "      <td>56.33</td>\n",
       "      <td>18.1</td>\n",
       "      <td>Unknown</td>\n",
       "      <td>0</td>\n",
       "    </tr>\n",
       "    <tr>\n",
       "      <th>3857</th>\n",
       "      <td>Male</td>\n",
       "      <td>26</td>\n",
       "      <td>0</td>\n",
       "      <td>0</td>\n",
       "      <td>No</td>\n",
       "      <td>Private</td>\n",
       "      <td>Urban</td>\n",
       "      <td>85.92</td>\n",
       "      <td>35.6</td>\n",
       "      <td>smokes</td>\n",
       "      <td>0</td>\n",
       "    </tr>\n",
       "  </tbody>\n",
       "</table>\n",
       "</div>"
      ],
      "text/plain": [
       "      gender  age hypertension heart_disease ever_married      work_type  \\\n",
       "1256    Male   63            0             0          Yes  Self-employed   \n",
       "2477  Female   34            1             0          Yes  Self-employed   \n",
       "3910    Male   31            0             0          Yes       Govt_job   \n",
       "3132    Male   11            0             0           No       children   \n",
       "3857    Male   26            0             0           No        Private   \n",
       "\n",
       "     Residence_type  avg_glucose_level   bmi   smoking_status stroke  \n",
       "1256          Rural              78.43  18.8     never smoked      0  \n",
       "2477          Urban             100.61   NaN          Unknown      0  \n",
       "3910          Urban              65.70  30.4  formerly smoked      0  \n",
       "3132          Rural              56.33  18.1          Unknown      0  \n",
       "3857          Urban              85.92  35.6           smokes      0  "
      ]
     },
     "execution_count": 21,
     "metadata": {},
     "output_type": "execute_result"
    }
   ],
   "source": [
    "train.head()"
   ]
  },
  {
   "cell_type": "markdown",
   "id": "f7bbf37d",
   "metadata": {},
   "source": [
    "#### Preprossessing ( Offline training ) "
   ]
  },
  {
   "cell_type": "code",
   "execution_count": 22,
   "id": "ac3eebfc",
   "metadata": {},
   "outputs": [],
   "source": [
    "# Create our imputer to replace missing values with the mean e.g.\n",
    "train['bmi'].fillna(value=train['bmi'].mean(), inplace=True)"
   ]
  },
  {
   "cell_type": "code",
   "execution_count": 23,
   "id": "1a7fd7e4",
   "metadata": {},
   "outputs": [],
   "source": [
    "#X_train Feature Matrix  and  #y_train Target Variable\n",
    "\n",
    "X_train, y_train = train.drop(columns='stroke'), train['stroke']  "
   ]
  },
  {
   "cell_type": "code",
   "execution_count": 24,
   "id": "25498ffc",
   "metadata": {},
   "outputs": [],
   "source": [
    "#Separate numerical , and categorical variables \n",
    "\n",
    "X_train_numeric_data = X_train.select_dtypes(include=[np.number])\n",
    "X_train_categorical_data = X_train.select_dtypes(exclude=[np.number])"
   ]
  },
  {
   "cell_type": "code",
   "execution_count": 25,
   "id": "9d4b7bfc",
   "metadata": {},
   "outputs": [
    {
     "data": {
      "text/html": [
       "<div>\n",
       "<style scoped>\n",
       "    .dataframe tbody tr th:only-of-type {\n",
       "        vertical-align: middle;\n",
       "    }\n",
       "\n",
       "    .dataframe tbody tr th {\n",
       "        vertical-align: top;\n",
       "    }\n",
       "\n",
       "    .dataframe thead th {\n",
       "        text-align: right;\n",
       "    }\n",
       "</style>\n",
       "<table border=\"1\" class=\"dataframe\">\n",
       "  <thead>\n",
       "    <tr style=\"text-align: right;\">\n",
       "      <th></th>\n",
       "      <th>age</th>\n",
       "      <th>avg_glucose_level</th>\n",
       "      <th>bmi</th>\n",
       "    </tr>\n",
       "  </thead>\n",
       "  <tbody>\n",
       "    <tr>\n",
       "      <th>1256</th>\n",
       "      <td>63</td>\n",
       "      <td>78.43</td>\n",
       "      <td>18.800000</td>\n",
       "    </tr>\n",
       "    <tr>\n",
       "      <th>2477</th>\n",
       "      <td>34</td>\n",
       "      <td>100.61</td>\n",
       "      <td>28.888648</td>\n",
       "    </tr>\n",
       "    <tr>\n",
       "      <th>3910</th>\n",
       "      <td>31</td>\n",
       "      <td>65.70</td>\n",
       "      <td>30.400000</td>\n",
       "    </tr>\n",
       "    <tr>\n",
       "      <th>3132</th>\n",
       "      <td>11</td>\n",
       "      <td>56.33</td>\n",
       "      <td>18.100000</td>\n",
       "    </tr>\n",
       "    <tr>\n",
       "      <th>3857</th>\n",
       "      <td>26</td>\n",
       "      <td>85.92</td>\n",
       "      <td>35.600000</td>\n",
       "    </tr>\n",
       "  </tbody>\n",
       "</table>\n",
       "</div>"
      ],
      "text/plain": [
       "      age  avg_glucose_level        bmi\n",
       "1256   63              78.43  18.800000\n",
       "2477   34             100.61  28.888648\n",
       "3910   31              65.70  30.400000\n",
       "3132   11              56.33  18.100000\n",
       "3857   26              85.92  35.600000"
      ]
     },
     "execution_count": 25,
     "metadata": {},
     "output_type": "execute_result"
    }
   ],
   "source": [
    "X_train_numeric_data.head()"
   ]
  },
  {
   "cell_type": "code",
   "execution_count": 26,
   "id": "7ba0dcd6",
   "metadata": {},
   "outputs": [
    {
     "data": {
      "text/html": [
       "<div>\n",
       "<style scoped>\n",
       "    .dataframe tbody tr th:only-of-type {\n",
       "        vertical-align: middle;\n",
       "    }\n",
       "\n",
       "    .dataframe tbody tr th {\n",
       "        vertical-align: top;\n",
       "    }\n",
       "\n",
       "    .dataframe thead th {\n",
       "        text-align: right;\n",
       "    }\n",
       "</style>\n",
       "<table border=\"1\" class=\"dataframe\">\n",
       "  <thead>\n",
       "    <tr style=\"text-align: right;\">\n",
       "      <th></th>\n",
       "      <th>gender</th>\n",
       "      <th>hypertension</th>\n",
       "      <th>heart_disease</th>\n",
       "      <th>ever_married</th>\n",
       "      <th>work_type</th>\n",
       "      <th>Residence_type</th>\n",
       "      <th>smoking_status</th>\n",
       "    </tr>\n",
       "  </thead>\n",
       "  <tbody>\n",
       "    <tr>\n",
       "      <th>1256</th>\n",
       "      <td>Male</td>\n",
       "      <td>0</td>\n",
       "      <td>0</td>\n",
       "      <td>Yes</td>\n",
       "      <td>Self-employed</td>\n",
       "      <td>Rural</td>\n",
       "      <td>never smoked</td>\n",
       "    </tr>\n",
       "    <tr>\n",
       "      <th>2477</th>\n",
       "      <td>Female</td>\n",
       "      <td>1</td>\n",
       "      <td>0</td>\n",
       "      <td>Yes</td>\n",
       "      <td>Self-employed</td>\n",
       "      <td>Urban</td>\n",
       "      <td>Unknown</td>\n",
       "    </tr>\n",
       "    <tr>\n",
       "      <th>3910</th>\n",
       "      <td>Male</td>\n",
       "      <td>0</td>\n",
       "      <td>0</td>\n",
       "      <td>Yes</td>\n",
       "      <td>Govt_job</td>\n",
       "      <td>Urban</td>\n",
       "      <td>formerly smoked</td>\n",
       "    </tr>\n",
       "    <tr>\n",
       "      <th>3132</th>\n",
       "      <td>Male</td>\n",
       "      <td>0</td>\n",
       "      <td>0</td>\n",
       "      <td>No</td>\n",
       "      <td>children</td>\n",
       "      <td>Rural</td>\n",
       "      <td>Unknown</td>\n",
       "    </tr>\n",
       "    <tr>\n",
       "      <th>3857</th>\n",
       "      <td>Male</td>\n",
       "      <td>0</td>\n",
       "      <td>0</td>\n",
       "      <td>No</td>\n",
       "      <td>Private</td>\n",
       "      <td>Urban</td>\n",
       "      <td>smokes</td>\n",
       "    </tr>\n",
       "  </tbody>\n",
       "</table>\n",
       "</div>"
      ],
      "text/plain": [
       "      gender hypertension heart_disease ever_married      work_type  \\\n",
       "1256    Male            0             0          Yes  Self-employed   \n",
       "2477  Female            1             0          Yes  Self-employed   \n",
       "3910    Male            0             0          Yes       Govt_job   \n",
       "3132    Male            0             0           No       children   \n",
       "3857    Male            0             0           No        Private   \n",
       "\n",
       "     Residence_type   smoking_status  \n",
       "1256          Rural     never smoked  \n",
       "2477          Urban          Unknown  \n",
       "3910          Urban  formerly smoked  \n",
       "3132          Rural          Unknown  \n",
       "3857          Urban           smokes  "
      ]
     },
     "execution_count": 26,
     "metadata": {},
     "output_type": "execute_result"
    }
   ],
   "source": [
    "X_train_categorical_data.head()"
   ]
  },
  {
   "cell_type": "code",
   "execution_count": 27,
   "id": "ad4b502c",
   "metadata": {},
   "outputs": [],
   "source": [
    "# Apply one or more data pre-processing techniques on numeric variables only, e.g. PowerTransformer followed by MinMaxScaler\n",
    "\n",
    "#Step a: PowerTransformer firt on numerical variables \n",
    "power = PowerTransformer()\n",
    "X_train_numeric_data_Power = power.fit_transform(X_train_numeric_data)\n",
    "\n",
    "# Step b :Rhen ,MinMaxScaler on powerTrasformer result  \n",
    "MinMax = MinMaxScaler()\n",
    "X_train_numeric_data_MinMax = MinMax.fit_transform(X_train_numeric_data_Power)"
   ]
  },
  {
   "cell_type": "code",
   "execution_count": 28,
   "id": "dc628785",
   "metadata": {},
   "outputs": [
    {
     "data": {
      "text/plain": [
       "(4088, 3)"
      ]
     },
     "execution_count": 28,
     "metadata": {},
     "output_type": "execute_result"
    }
   ],
   "source": [
    "#Shape\n",
    "X_train_numeric_data_MinMax.shape"
   ]
  },
  {
   "cell_type": "code",
   "execution_count": 29,
   "id": "9abd48dd",
   "metadata": {},
   "outputs": [
    {
     "data": {
      "text/plain": [
       "array([[0.79441924, 0.38265645, 0.26257478],\n",
       "       [0.46262137, 0.57875113, 0.45371743],\n",
       "       [0.42649856, 0.20820483, 0.47652187],\n",
       "       ...,\n",
       "       [0.86014038, 0.88298588, 0.55843059],\n",
       "       [0.76124643, 0.72964494, 0.52132769],\n",
       "       [0.30238488, 0.8022275 , 0.35971261]])"
      ]
     },
     "execution_count": 29,
     "metadata": {},
     "output_type": "execute_result"
    }
   ],
   "source": [
    "X_train_numeric_data_MinMax"
   ]
  },
  {
   "cell_type": "code",
   "execution_count": 30,
   "id": "bd46aed3",
   "metadata": {},
   "outputs": [],
   "source": [
    "# apply a data pre-processing technique on categorical variables only\n",
    "\n",
    "#Encoder\n",
    "encoder = OneHotEncoder(sparse=False, drop=None)\n",
    "X_train_categorical_data_encorder = encoder.fit_transform(X_train_categorical_data)"
   ]
  },
  {
   "cell_type": "code",
   "execution_count": 31,
   "id": "454a3b24",
   "metadata": {},
   "outputs": [
    {
     "data": {
      "text/plain": [
       "(4088, 20)"
      ]
     },
     "execution_count": 31,
     "metadata": {},
     "output_type": "execute_result"
    }
   ],
   "source": [
    "#Reshape\n",
    "X_train_categorical_data_encorder.shape"
   ]
  },
  {
   "cell_type": "code",
   "execution_count": 32,
   "id": "ee384cf6",
   "metadata": {},
   "outputs": [],
   "source": [
    "#Dataframe\n",
    "X_train_numeric_data_MinMax = pd.DataFrame(X_train_numeric_data_MinMax, columns=X_train_numeric_data.columns)\n",
    "X_train_categorical_data_encorder = pd.DataFrame(X_train_categorical_data_encorder, columns=encoder.get_feature_names_out())"
   ]
  },
  {
   "cell_type": "code",
   "execution_count": 33,
   "id": "a7844b11",
   "metadata": {},
   "outputs": [
    {
     "data": {
      "text/plain": [
       "((4088, 3), (4088, 20))"
      ]
     },
     "execution_count": 33,
     "metadata": {},
     "output_type": "execute_result"
    }
   ],
   "source": [
    "X_train_numeric_data_MinMax.shape, X_train_categorical_data_encorder.shape"
   ]
  },
  {
   "cell_type": "code",
   "execution_count": 34,
   "id": "481f408e",
   "metadata": {},
   "outputs": [
    {
     "data": {
      "text/plain": [
       "(4088, 23)"
      ]
     },
     "execution_count": 34,
     "metadata": {},
     "output_type": "execute_result"
    }
   ],
   "source": [
    "# Merge the two pre-processed datasets, the first containing only numeric variables and the second containing only categorical variables\n",
    "pp_X_train = pd.merge(\n",
    "    X_train_numeric_data_MinMax, X_train_categorical_data_encorder, how='inner',\n",
    "    left_index=True, right_index=True\n",
    ")\n",
    "pp_X_train.shape"
   ]
  },
  {
   "cell_type": "code",
   "execution_count": 35,
   "id": "cf86cc5b",
   "metadata": {},
   "outputs": [
    {
     "data": {
      "text/html": [
       "<div>\n",
       "<style scoped>\n",
       "    .dataframe tbody tr th:only-of-type {\n",
       "        vertical-align: middle;\n",
       "    }\n",
       "\n",
       "    .dataframe tbody tr th {\n",
       "        vertical-align: top;\n",
       "    }\n",
       "\n",
       "    .dataframe thead th {\n",
       "        text-align: right;\n",
       "    }\n",
       "</style>\n",
       "<table border=\"1\" class=\"dataframe\">\n",
       "  <thead>\n",
       "    <tr style=\"text-align: right;\">\n",
       "      <th></th>\n",
       "      <th>age</th>\n",
       "      <th>avg_glucose_level</th>\n",
       "      <th>bmi</th>\n",
       "      <th>gender_Female</th>\n",
       "      <th>gender_Male</th>\n",
       "      <th>gender_Other</th>\n",
       "      <th>hypertension_0</th>\n",
       "      <th>hypertension_1</th>\n",
       "      <th>heart_disease_0</th>\n",
       "      <th>heart_disease_1</th>\n",
       "      <th>...</th>\n",
       "      <th>work_type_Never_worked</th>\n",
       "      <th>work_type_Private</th>\n",
       "      <th>work_type_Self-employed</th>\n",
       "      <th>work_type_children</th>\n",
       "      <th>Residence_type_Rural</th>\n",
       "      <th>Residence_type_Urban</th>\n",
       "      <th>smoking_status_Unknown</th>\n",
       "      <th>smoking_status_formerly smoked</th>\n",
       "      <th>smoking_status_never smoked</th>\n",
       "      <th>smoking_status_smokes</th>\n",
       "    </tr>\n",
       "  </thead>\n",
       "  <tbody>\n",
       "    <tr>\n",
       "      <th>0</th>\n",
       "      <td>0.794419</td>\n",
       "      <td>0.382656</td>\n",
       "      <td>0.262575</td>\n",
       "      <td>0.0</td>\n",
       "      <td>1.0</td>\n",
       "      <td>0.0</td>\n",
       "      <td>1.0</td>\n",
       "      <td>0.0</td>\n",
       "      <td>1.0</td>\n",
       "      <td>0.0</td>\n",
       "      <td>...</td>\n",
       "      <td>0.0</td>\n",
       "      <td>0.0</td>\n",
       "      <td>1.0</td>\n",
       "      <td>0.0</td>\n",
       "      <td>1.0</td>\n",
       "      <td>0.0</td>\n",
       "      <td>0.0</td>\n",
       "      <td>0.0</td>\n",
       "      <td>1.0</td>\n",
       "      <td>0.0</td>\n",
       "    </tr>\n",
       "    <tr>\n",
       "      <th>1</th>\n",
       "      <td>0.462621</td>\n",
       "      <td>0.578751</td>\n",
       "      <td>0.453717</td>\n",
       "      <td>1.0</td>\n",
       "      <td>0.0</td>\n",
       "      <td>0.0</td>\n",
       "      <td>0.0</td>\n",
       "      <td>1.0</td>\n",
       "      <td>1.0</td>\n",
       "      <td>0.0</td>\n",
       "      <td>...</td>\n",
       "      <td>0.0</td>\n",
       "      <td>0.0</td>\n",
       "      <td>1.0</td>\n",
       "      <td>0.0</td>\n",
       "      <td>0.0</td>\n",
       "      <td>1.0</td>\n",
       "      <td>1.0</td>\n",
       "      <td>0.0</td>\n",
       "      <td>0.0</td>\n",
       "      <td>0.0</td>\n",
       "    </tr>\n",
       "    <tr>\n",
       "      <th>2</th>\n",
       "      <td>0.426499</td>\n",
       "      <td>0.208205</td>\n",
       "      <td>0.476522</td>\n",
       "      <td>0.0</td>\n",
       "      <td>1.0</td>\n",
       "      <td>0.0</td>\n",
       "      <td>1.0</td>\n",
       "      <td>0.0</td>\n",
       "      <td>1.0</td>\n",
       "      <td>0.0</td>\n",
       "      <td>...</td>\n",
       "      <td>0.0</td>\n",
       "      <td>0.0</td>\n",
       "      <td>0.0</td>\n",
       "      <td>0.0</td>\n",
       "      <td>0.0</td>\n",
       "      <td>1.0</td>\n",
       "      <td>0.0</td>\n",
       "      <td>1.0</td>\n",
       "      <td>0.0</td>\n",
       "      <td>0.0</td>\n",
       "    </tr>\n",
       "    <tr>\n",
       "      <th>3</th>\n",
       "      <td>0.169992</td>\n",
       "      <td>0.027873</td>\n",
       "      <td>0.245802</td>\n",
       "      <td>0.0</td>\n",
       "      <td>1.0</td>\n",
       "      <td>0.0</td>\n",
       "      <td>1.0</td>\n",
       "      <td>0.0</td>\n",
       "      <td>1.0</td>\n",
       "      <td>0.0</td>\n",
       "      <td>...</td>\n",
       "      <td>0.0</td>\n",
       "      <td>0.0</td>\n",
       "      <td>0.0</td>\n",
       "      <td>1.0</td>\n",
       "      <td>1.0</td>\n",
       "      <td>0.0</td>\n",
       "      <td>1.0</td>\n",
       "      <td>0.0</td>\n",
       "      <td>0.0</td>\n",
       "      <td>0.0</td>\n",
       "    </tr>\n",
       "    <tr>\n",
       "      <th>4</th>\n",
       "      <td>0.365231</td>\n",
       "      <td>0.460544</td>\n",
       "      <td>0.547238</td>\n",
       "      <td>0.0</td>\n",
       "      <td>1.0</td>\n",
       "      <td>0.0</td>\n",
       "      <td>1.0</td>\n",
       "      <td>0.0</td>\n",
       "      <td>1.0</td>\n",
       "      <td>0.0</td>\n",
       "      <td>...</td>\n",
       "      <td>0.0</td>\n",
       "      <td>1.0</td>\n",
       "      <td>0.0</td>\n",
       "      <td>0.0</td>\n",
       "      <td>0.0</td>\n",
       "      <td>1.0</td>\n",
       "      <td>0.0</td>\n",
       "      <td>0.0</td>\n",
       "      <td>0.0</td>\n",
       "      <td>1.0</td>\n",
       "    </tr>\n",
       "  </tbody>\n",
       "</table>\n",
       "<p>5 rows × 23 columns</p>\n",
       "</div>"
      ],
      "text/plain": [
       "        age  avg_glucose_level       bmi  gender_Female  gender_Male  \\\n",
       "0  0.794419           0.382656  0.262575            0.0          1.0   \n",
       "1  0.462621           0.578751  0.453717            1.0          0.0   \n",
       "2  0.426499           0.208205  0.476522            0.0          1.0   \n",
       "3  0.169992           0.027873  0.245802            0.0          1.0   \n",
       "4  0.365231           0.460544  0.547238            0.0          1.0   \n",
       "\n",
       "   gender_Other  hypertension_0  hypertension_1  heart_disease_0  \\\n",
       "0           0.0             1.0             0.0              1.0   \n",
       "1           0.0             0.0             1.0              1.0   \n",
       "2           0.0             1.0             0.0              1.0   \n",
       "3           0.0             1.0             0.0              1.0   \n",
       "4           0.0             1.0             0.0              1.0   \n",
       "\n",
       "   heart_disease_1  ...  work_type_Never_worked  work_type_Private  \\\n",
       "0              0.0  ...                     0.0                0.0   \n",
       "1              0.0  ...                     0.0                0.0   \n",
       "2              0.0  ...                     0.0                0.0   \n",
       "3              0.0  ...                     0.0                0.0   \n",
       "4              0.0  ...                     0.0                1.0   \n",
       "\n",
       "   work_type_Self-employed  work_type_children  Residence_type_Rural  \\\n",
       "0                      1.0                 0.0                   1.0   \n",
       "1                      1.0                 0.0                   0.0   \n",
       "2                      0.0                 0.0                   0.0   \n",
       "3                      0.0                 1.0                   1.0   \n",
       "4                      0.0                 0.0                   0.0   \n",
       "\n",
       "   Residence_type_Urban  smoking_status_Unknown  \\\n",
       "0                   0.0                     0.0   \n",
       "1                   1.0                     1.0   \n",
       "2                   1.0                     0.0   \n",
       "3                   0.0                     1.0   \n",
       "4                   1.0                     0.0   \n",
       "\n",
       "   smoking_status_formerly smoked  smoking_status_never smoked  \\\n",
       "0                             0.0                          1.0   \n",
       "1                             0.0                          0.0   \n",
       "2                             1.0                          0.0   \n",
       "3                             0.0                          0.0   \n",
       "4                             0.0                          0.0   \n",
       "\n",
       "   smoking_status_smokes  \n",
       "0                    0.0  \n",
       "1                    0.0  \n",
       "2                    0.0  \n",
       "3                    0.0  \n",
       "4                    1.0  \n",
       "\n",
       "[5 rows x 23 columns]"
      ]
     },
     "execution_count": 35,
     "metadata": {},
     "output_type": "execute_result"
    }
   ],
   "source": [
    "pp_X_train.head()"
   ]
  },
  {
   "cell_type": "code",
   "execution_count": 36,
   "id": "4d9eee76",
   "metadata": {},
   "outputs": [],
   "source": [
    "#Save for OFFLINE TRAINING ###\n",
    "\n",
    "# Save/serialize the fitted encoder to local OS\n",
    "with open('pickle/OneHotEncoder.pkl', 'wb') as output_file:\n",
    "    pickle.dump(encoder, output_file)\n",
    "    \n",
    "# Save/serialize the fitted encoder to local OS\n",
    "with open('pickle/MinMaxScaler.pkl', 'wb') as output_file:\n",
    "    pickle.dump(MinMax, output_file)\n",
    "    \n",
    "# Save/serialize the fitted encoder to local OS\n",
    "with open('pickle/PowerTransformer.pkl', 'wb') as output_file:\n",
    "    pickle.dump(power, output_file)"
   ]
  },
  {
   "cell_type": "code",
   "execution_count": 37,
   "id": "8425ac26",
   "metadata": {},
   "outputs": [
    {
     "data": {
      "text/plain": [
       "age                               0\n",
       "avg_glucose_level                 0\n",
       "bmi                               0\n",
       "gender_Female                     0\n",
       "gender_Male                       0\n",
       "gender_Other                      0\n",
       "hypertension_0                    0\n",
       "hypertension_1                    0\n",
       "heart_disease_0                   0\n",
       "heart_disease_1                   0\n",
       "ever_married_No                   0\n",
       "ever_married_Yes                  0\n",
       "work_type_Govt_job                0\n",
       "work_type_Never_worked            0\n",
       "work_type_Private                 0\n",
       "work_type_Self-employed           0\n",
       "work_type_children                0\n",
       "Residence_type_Rural              0\n",
       "Residence_type_Urban              0\n",
       "smoking_status_Unknown            0\n",
       "smoking_status_formerly smoked    0\n",
       "smoking_status_never smoked       0\n",
       "smoking_status_smokes             0\n",
       "dtype: int64"
      ]
     },
     "execution_count": 37,
     "metadata": {},
     "output_type": "execute_result"
    }
   ],
   "source": [
    "pp_X_train.isnull().sum()"
   ]
  },
  {
   "cell_type": "code",
   "execution_count": 38,
   "id": "8498c5b9",
   "metadata": {},
   "outputs": [
    {
     "name": "stdout",
     "output_type": "stream",
     "text": [
      "\n",
      "\n",
      "--> Missing values visualizasion :\n",
      "\n",
      "\n"
     ]
    },
    {
     "data": {
      "text/plain": [
       "<AxesSubplot:>"
      ]
     },
     "execution_count": 38,
     "metadata": {},
     "output_type": "execute_result"
    },
    {
     "data": {
      "image/png": "[encoded data removed]",
      "text/plain": [
       "<Figure size 720x216 with 2 Axes>"
      ]
     },
     "metadata": {
      "needs_background": "light"
     },
     "output_type": "display_data"
    }
   ],
   "source": [
    "#missinggno is used to visualized missing values\n",
    "print(\"\\n\\n--> Missing values visualizasion :\\n\\n\")\n",
    "msno.matrix(pp_X_train,figsize=(10, 3))"
   ]
  },
  {
   "cell_type": "code",
   "execution_count": 39,
   "id": "ba5d698b",
   "metadata": {},
   "outputs": [
    {
     "data": {
      "text/plain": [
       "1256    0\n",
       "2477    0\n",
       "3910    0\n",
       "3132    0\n",
       "3857    0\n",
       "Name: stroke, dtype: object"
      ]
     },
     "execution_count": 39,
     "metadata": {},
     "output_type": "execute_result"
    }
   ],
   "source": [
    "y_train.head()"
   ]
  },
  {
   "cell_type": "code",
   "execution_count": 40,
   "id": "c4f082bd",
   "metadata": {},
   "outputs": [
    {
     "data": {
      "text/plain": [
       "<AxesSubplot:>"
      ]
     },
     "execution_count": 40,
     "metadata": {},
     "output_type": "execute_result"
    },
    {
     "data": {
      "image/png": "[encoded data removed]",
      "text/plain": [
       "<Figure size 432x288 with 1 Axes>"
      ]
     },
     "metadata": {
      "needs_background": "light"
     },
     "output_type": "display_data"
    }
   ],
   "source": [
    "y_train.hist()"
   ]
  },
  {
   "cell_type": "markdown",
   "id": "76f8c46c",
   "metadata": {},
   "source": [
    "### Model"
   ]
  },
  {
   "cell_type": "code",
   "execution_count": 41,
   "id": "c311738b",
   "metadata": {},
   "outputs": [],
   "source": [
    "model = DecisionTreeClassifier()"
   ]
  },
  {
   "cell_type": "code",
   "execution_count": 42,
   "id": "45625d85",
   "metadata": {},
   "outputs": [
    {
     "data": {
      "text/html": [
       "<div>\n",
       "<style scoped>\n",
       "    .dataframe tbody tr th:only-of-type {\n",
       "        vertical-align: middle;\n",
       "    }\n",
       "\n",
       "    .dataframe tbody tr th {\n",
       "        vertical-align: top;\n",
       "    }\n",
       "\n",
       "    .dataframe thead th {\n",
       "        text-align: right;\n",
       "    }\n",
       "</style>\n",
       "<table border=\"1\" class=\"dataframe\">\n",
       "  <thead>\n",
       "    <tr style=\"text-align: right;\">\n",
       "      <th></th>\n",
       "      <th>age</th>\n",
       "      <th>avg_glucose_level</th>\n",
       "      <th>bmi</th>\n",
       "      <th>gender_Female</th>\n",
       "      <th>gender_Male</th>\n",
       "      <th>gender_Other</th>\n",
       "      <th>hypertension_0</th>\n",
       "      <th>hypertension_1</th>\n",
       "      <th>heart_disease_0</th>\n",
       "      <th>heart_disease_1</th>\n",
       "      <th>...</th>\n",
       "      <th>work_type_Never_worked</th>\n",
       "      <th>work_type_Private</th>\n",
       "      <th>work_type_Self-employed</th>\n",
       "      <th>work_type_children</th>\n",
       "      <th>Residence_type_Rural</th>\n",
       "      <th>Residence_type_Urban</th>\n",
       "      <th>smoking_status_Unknown</th>\n",
       "      <th>smoking_status_formerly smoked</th>\n",
       "      <th>smoking_status_never smoked</th>\n",
       "      <th>smoking_status_smokes</th>\n",
       "    </tr>\n",
       "  </thead>\n",
       "  <tbody>\n",
       "    <tr>\n",
       "      <th>0</th>\n",
       "      <td>0.794419</td>\n",
       "      <td>0.382656</td>\n",
       "      <td>0.262575</td>\n",
       "      <td>0.0</td>\n",
       "      <td>1.0</td>\n",
       "      <td>0.0</td>\n",
       "      <td>1.0</td>\n",
       "      <td>0.0</td>\n",
       "      <td>1.0</td>\n",
       "      <td>0.0</td>\n",
       "      <td>...</td>\n",
       "      <td>0.0</td>\n",
       "      <td>0.0</td>\n",
       "      <td>1.0</td>\n",
       "      <td>0.0</td>\n",
       "      <td>1.0</td>\n",
       "      <td>0.0</td>\n",
       "      <td>0.0</td>\n",
       "      <td>0.0</td>\n",
       "      <td>1.0</td>\n",
       "      <td>0.0</td>\n",
       "    </tr>\n",
       "    <tr>\n",
       "      <th>1</th>\n",
       "      <td>0.462621</td>\n",
       "      <td>0.578751</td>\n",
       "      <td>0.453717</td>\n",
       "      <td>1.0</td>\n",
       "      <td>0.0</td>\n",
       "      <td>0.0</td>\n",
       "      <td>0.0</td>\n",
       "      <td>1.0</td>\n",
       "      <td>1.0</td>\n",
       "      <td>0.0</td>\n",
       "      <td>...</td>\n",
       "      <td>0.0</td>\n",
       "      <td>0.0</td>\n",
       "      <td>1.0</td>\n",
       "      <td>0.0</td>\n",
       "      <td>0.0</td>\n",
       "      <td>1.0</td>\n",
       "      <td>1.0</td>\n",
       "      <td>0.0</td>\n",
       "      <td>0.0</td>\n",
       "      <td>0.0</td>\n",
       "    </tr>\n",
       "    <tr>\n",
       "      <th>2</th>\n",
       "      <td>0.426499</td>\n",
       "      <td>0.208205</td>\n",
       "      <td>0.476522</td>\n",
       "      <td>0.0</td>\n",
       "      <td>1.0</td>\n",
       "      <td>0.0</td>\n",
       "      <td>1.0</td>\n",
       "      <td>0.0</td>\n",
       "      <td>1.0</td>\n",
       "      <td>0.0</td>\n",
       "      <td>...</td>\n",
       "      <td>0.0</td>\n",
       "      <td>0.0</td>\n",
       "      <td>0.0</td>\n",
       "      <td>0.0</td>\n",
       "      <td>0.0</td>\n",
       "      <td>1.0</td>\n",
       "      <td>0.0</td>\n",
       "      <td>1.0</td>\n",
       "      <td>0.0</td>\n",
       "      <td>0.0</td>\n",
       "    </tr>\n",
       "    <tr>\n",
       "      <th>3</th>\n",
       "      <td>0.169992</td>\n",
       "      <td>0.027873</td>\n",
       "      <td>0.245802</td>\n",
       "      <td>0.0</td>\n",
       "      <td>1.0</td>\n",
       "      <td>0.0</td>\n",
       "      <td>1.0</td>\n",
       "      <td>0.0</td>\n",
       "      <td>1.0</td>\n",
       "      <td>0.0</td>\n",
       "      <td>...</td>\n",
       "      <td>0.0</td>\n",
       "      <td>0.0</td>\n",
       "      <td>0.0</td>\n",
       "      <td>1.0</td>\n",
       "      <td>1.0</td>\n",
       "      <td>0.0</td>\n",
       "      <td>1.0</td>\n",
       "      <td>0.0</td>\n",
       "      <td>0.0</td>\n",
       "      <td>0.0</td>\n",
       "    </tr>\n",
       "    <tr>\n",
       "      <th>4</th>\n",
       "      <td>0.365231</td>\n",
       "      <td>0.460544</td>\n",
       "      <td>0.547238</td>\n",
       "      <td>0.0</td>\n",
       "      <td>1.0</td>\n",
       "      <td>0.0</td>\n",
       "      <td>1.0</td>\n",
       "      <td>0.0</td>\n",
       "      <td>1.0</td>\n",
       "      <td>0.0</td>\n",
       "      <td>...</td>\n",
       "      <td>0.0</td>\n",
       "      <td>1.0</td>\n",
       "      <td>0.0</td>\n",
       "      <td>0.0</td>\n",
       "      <td>0.0</td>\n",
       "      <td>1.0</td>\n",
       "      <td>0.0</td>\n",
       "      <td>0.0</td>\n",
       "      <td>0.0</td>\n",
       "      <td>1.0</td>\n",
       "    </tr>\n",
       "  </tbody>\n",
       "</table>\n",
       "<p>5 rows × 23 columns</p>\n",
       "</div>"
      ],
      "text/plain": [
       "        age  avg_glucose_level       bmi  gender_Female  gender_Male  \\\n",
       "0  0.794419           0.382656  0.262575            0.0          1.0   \n",
       "1  0.462621           0.578751  0.453717            1.0          0.0   \n",
       "2  0.426499           0.208205  0.476522            0.0          1.0   \n",
       "3  0.169992           0.027873  0.245802            0.0          1.0   \n",
       "4  0.365231           0.460544  0.547238            0.0          1.0   \n",
       "\n",
       "   gender_Other  hypertension_0  hypertension_1  heart_disease_0  \\\n",
       "0           0.0             1.0             0.0              1.0   \n",
       "1           0.0             0.0             1.0              1.0   \n",
       "2           0.0             1.0             0.0              1.0   \n",
       "3           0.0             1.0             0.0              1.0   \n",
       "4           0.0             1.0             0.0              1.0   \n",
       "\n",
       "   heart_disease_1  ...  work_type_Never_worked  work_type_Private  \\\n",
       "0              0.0  ...                     0.0                0.0   \n",
       "1              0.0  ...                     0.0                0.0   \n",
       "2              0.0  ...                     0.0                0.0   \n",
       "3              0.0  ...                     0.0                0.0   \n",
       "4              0.0  ...                     0.0                1.0   \n",
       "\n",
       "   work_type_Self-employed  work_type_children  Residence_type_Rural  \\\n",
       "0                      1.0                 0.0                   1.0   \n",
       "1                      1.0                 0.0                   0.0   \n",
       "2                      0.0                 0.0                   0.0   \n",
       "3                      0.0                 1.0                   1.0   \n",
       "4                      0.0                 0.0                   0.0   \n",
       "\n",
       "   Residence_type_Urban  smoking_status_Unknown  \\\n",
       "0                   0.0                     0.0   \n",
       "1                   1.0                     1.0   \n",
       "2                   1.0                     0.0   \n",
       "3                   0.0                     1.0   \n",
       "4                   1.0                     0.0   \n",
       "\n",
       "   smoking_status_formerly smoked  smoking_status_never smoked  \\\n",
       "0                             0.0                          1.0   \n",
       "1                             0.0                          0.0   \n",
       "2                             1.0                          0.0   \n",
       "3                             0.0                          0.0   \n",
       "4                             0.0                          0.0   \n",
       "\n",
       "   smoking_status_smokes  \n",
       "0                    0.0  \n",
       "1                    0.0  \n",
       "2                    0.0  \n",
       "3                    0.0  \n",
       "4                    1.0  \n",
       "\n",
       "[5 rows x 23 columns]"
      ]
     },
     "execution_count": 42,
     "metadata": {},
     "output_type": "execute_result"
    }
   ],
   "source": [
    "pp_X_train.head()"
   ]
  },
  {
   "cell_type": "code",
   "execution_count": 43,
   "id": "417c0735",
   "metadata": {},
   "outputs": [],
   "source": [
    "y_train.reset_index(drop=True, inplace=True)\n",
    "y_train = y_train.astype('int')"
   ]
  },
  {
   "cell_type": "code",
   "execution_count": 44,
   "id": "cabadcb6",
   "metadata": {},
   "outputs": [
    {
     "data": {
      "text/html": [
       "<style>#sk-container-id-1 {color: black;background-color: white;}#sk-container-id-1 pre{padding: 0;}#sk-container-id-1 div.sk-toggleable {background-color: white;}#sk-container-id-1 label.sk-toggleable__label {cursor: pointer;display: block;width: 100%;margin-bottom: 0;padding: 0.3em;box-sizing: border-box;text-align: center;}#sk-container-id-1 label.sk-toggleable__label-arrow:before {content: \"▸\";float: left;margin-right: 0.25em;color: #696969;}#sk-container-id-1 label.sk-toggleable__label-arrow:hover:before {color: black;}#sk-container-id-1 div.sk-estimator:hover label.sk-toggleable__label-arrow:before {color: black;}#sk-container-id-1 div.sk-toggleable__content {max-height: 0;max-width: 0;overflow: hidden;text-align: left;background-color: #f0f8ff;}#sk-container-id-1 div.sk-toggleable__content pre {margin: 0.2em;color: black;border-radius: 0.25em;background-color: #f0f8ff;}#sk-container-id-1 input.sk-toggleable__control:checked~div.sk-toggleable__content {max-height: 200px;max-width: 100%;overflow: auto;}#sk-container-id-1 input.sk-toggleable__control:checked~label.sk-toggleable__label-arrow:before {content: \"▾\";}#sk-container-id-1 div.sk-estimator input.sk-toggleable__control:checked~label.sk-toggleable__label {background-color: #d4ebff;}#sk-container-id-1 div.sk-label input.sk-toggleable__control:checked~label.sk-toggleable__label {background-color: #d4ebff;}#sk-container-id-1 input.sk-hidden--visually {border: 0;clip: rect(1px 1px 1px 1px);clip: rect(1px, 1px, 1px, 1px);height: 1px;margin: -1px;overflow: hidden;padding: 0;position: absolute;width: 1px;}#sk-container-id-1 div.sk-estimator {font-family: monospace;background-color: #f0f8ff;border: 1px dotted black;border-radius: 0.25em;box-sizing: border-box;margin-bottom: 0.5em;}#sk-container-id-1 div.sk-estimator:hover {background-color: #d4ebff;}#sk-container-id-1 div.sk-parallel-item::after {content: \"\";width: 100%;border-bottom: 1px solid gray;flex-grow: 1;}#sk-container-id-1 div.sk-label:hover label.sk-toggleable__label {background-color: #d4ebff;}#sk-container-id-1 div.sk-serial::before {content: \"\";position: absolute;border-left: 1px solid gray;box-sizing: border-box;top: 0;bottom: 0;left: 50%;z-index: 0;}#sk-container-id-1 div.sk-serial {display: flex;flex-direction: column;align-items: center;background-color: white;padding-right: 0.2em;padding-left: 0.2em;position: relative;}#sk-container-id-1 div.sk-item {position: relative;z-index: 1;}#sk-container-id-1 div.sk-parallel {display: flex;align-items: stretch;justify-content: center;background-color: white;position: relative;}#sk-container-id-1 div.sk-item::before, #sk-container-id-1 div.sk-parallel-item::before {content: \"\";position: absolute;border-left: 1px solid gray;box-sizing: border-box;top: 0;bottom: 0;left: 50%;z-index: -1;}#sk-container-id-1 div.sk-parallel-item {display: flex;flex-direction: column;z-index: 1;position: relative;background-color: white;}#sk-container-id-1 div.sk-parallel-item:first-child::after {align-self: flex-end;width: 50%;}#sk-container-id-1 div.sk-parallel-item:last-child::after {align-self: flex-start;width: 50%;}#sk-container-id-1 div.sk-parallel-item:only-child::after {width: 0;}#sk-container-id-1 div.sk-dashed-wrapped {border: 1px dashed gray;margin: 0 0.4em 0.5em 0.4em;box-sizing: border-box;padding-bottom: 0.4em;background-color: white;}#sk-container-id-1 div.sk-label label {font-family: monospace;font-weight: bold;display: inline-block;line-height: 1.2em;}#sk-container-id-1 div.sk-label-container {text-align: center;}#sk-container-id-1 div.sk-container {/* jupyter's `normalize.less` sets `[hidden] { display: none; }` but bootstrap.min.css set `[hidden] { display: none !important; }` so we also need the `!important` here to be able to override the default hidden behavior on the sphinx rendered scikit-learn.org. See: https://github.com/scikit-learn/scikit-learn/issues/21755 */display: inline-block !important;position: relative;}#sk-container-id-1 div.sk-text-repr-fallback {display: none;}</style><div id=\"sk-container-id-1\" class=\"sk-top-container\"><div class=\"sk-text-repr-fallback\"><pre>DecisionTreeClassifier()</pre><b>In a Jupyter environment, please rerun this cell to show the HTML representation or trust the notebook. <br />On GitHub, the HTML representation is unable to render, please try loading this page with nbviewer.org.</b></div><div class=\"sk-container\" hidden><div class=\"sk-item\"><div class=\"sk-estimator sk-toggleable\"><input class=\"sk-toggleable__control sk-hidden--visually\" id=\"sk-estimator-id-1\" type=\"checkbox\" checked><label for=\"sk-estimator-id-1\" class=\"sk-toggleable__label sk-toggleable__label-arrow\">DecisionTreeClassifier</label><div class=\"sk-toggleable__content\"><pre>DecisionTreeClassifier()</pre></div></div></div></div></div>"
      ],
      "text/plain": [
       "DecisionTreeClassifier()"
      ]
     },
     "execution_count": 44,
     "metadata": {},
     "output_type": "execute_result"
    }
   ],
   "source": [
    "model.fit(X=pp_X_train.values, y=y_train.values)"
   ]
  },
  {
   "cell_type": "code",
   "execution_count": 45,
   "id": "f03daf11",
   "metadata": {},
   "outputs": [],
   "source": [
    "# Save/serialize the fitted model to local OS\n",
    "with open('pickle/model.pkl', 'wb') as output_file:\n",
    "    pickle.dump(model, output_file)"
   ]
  },
  {
   "cell_type": "code",
   "execution_count": null,
   "id": "edf31828",
   "metadata": {},
   "outputs": [],
   "source": []
  }
 ],
 "metadata": {
  "kernelspec": {
   "display_name": "Python 3 (ipykernel)",
   "language": "python",
   "name": "python3"
  },
  "language_info": {
   "codemirror_mode": {
    "name": "ipython",
    "version": 3
   },
   "file_extension": ".py",
   "mimetype": "text/x-python",
   "name": "python",
   "nbconvert_exporter": "python",
   "pygments_lexer": "ipython3",
   "version": "3.9.12"
  }
 },
 "nbformat": 4,
 "nbformat_minor": 5
}
