{
 "cells": [
  {
   "cell_type": "code",
   "execution_count": 2,
   "id": "c7f8c1dd-6eae-4ccc-ac48-bcaac2d6765d",
   "metadata": {},
   "outputs": [],
   "source": [
    "#Count null values\n",
    "def count_na_rows():\n",
    "    print(Data.isnull().sum())\n",
    "    print(\"\\nData shape:\",Data.shape)"
   ]
  }
 ],
 "metadata": {
  "kernelspec": {
   "display_name": "Python 3 (ipykernel)",
   "language": "python",
   "name": "python3"
  },
  "language_info": {
   "codemirror_mode": {
    "name": "ipython",
    "version": 3
   },
   "file_extension": ".py",
   "mimetype": "text/x-python",
   "name": "python",
   "nbconvert_exporter": "python",
   "pygments_lexer": "ipython3",
   "version": "3.9.12"
  }
 },
 "nbformat": 4,
 "nbformat_minor": 5
}
