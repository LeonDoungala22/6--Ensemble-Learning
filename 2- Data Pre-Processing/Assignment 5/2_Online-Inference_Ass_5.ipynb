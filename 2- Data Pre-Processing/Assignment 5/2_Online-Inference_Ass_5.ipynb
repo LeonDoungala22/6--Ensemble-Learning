{
 "cells": [
  {
   "cell_type": "code",
   "execution_count": 1,
   "id": "7ecdef09-cb19-4c58-b5ad-f0e0e3951e40",
   "metadata": {},
   "outputs": [],
   "source": [
    "import pandas as pd\n",
    "import pickle\n",
    "import numpy as np\n",
    "\n",
    "import warnings\n",
    "warnings.filterwarnings(\"ignore\")\n",
    "\n",
    "import Utilities as Util\n",
    "from sklearn.model_selection import train_test_split\n",
    "import apply_preprocessing_V2_3 as apply_pp "
   ]
  },
  {
   "cell_type": "code",
   "execution_count": 2,
   "id": "fc314788-c428-429d-9462-de0635fadee3",
   "metadata": {},
   "outputs": [],
   "source": [
    "Data = pd.read_csv('Dataset/test.csv', header=0)"
   ]
  },
  {
   "cell_type": "code",
   "execution_count": 3,
   "id": "84e721dd-9419-4684-8e59-ea86518617ab",
   "metadata": {},
   "outputs": [],
   "source": [
    "#Data.shape"
   ]
  },
  {
   "cell_type": "code",
   "execution_count": 4,
   "id": "996bc5b7-70fc-4e33-b210-de0a4b358393",
   "metadata": {},
   "outputs": [],
   "source": [
    "#Data.head()"
   ]
  },
  {
   "cell_type": "code",
   "execution_count": 5,
   "id": "75a55a49-7961-48cd-96dd-acf6043c57fe",
   "metadata": {},
   "outputs": [],
   "source": [
    "#Data type trasformation \n",
    "\n",
    "#Data['age'] = Data['age'].astype('int')"
   ]
  },
  {
   "cell_type": "code",
   "execution_count": 6,
   "id": "9f5cc7ca-a61e-419d-ab0f-2c5e1d671fe5",
   "metadata": {},
   "outputs": [],
   "source": [
    "#Handling 'yes' no 'no' datas\n",
    "\n",
    "#Data['y'] = Data['y'].replace({'no': 0,'yes':1})"
   ]
  },
  {
   "cell_type": "code",
   "execution_count": 7,
   "id": "bc7d148f-78ef-4110-ac03-71c83900f378",
   "metadata": {},
   "outputs": [],
   "source": [
    "#Data.dtypes"
   ]
  },
  {
   "cell_type": "code",
   "execution_count": 8,
   "id": "2110ee38-db88-4152-814b-9e2fadcf143d",
   "metadata": {},
   "outputs": [],
   "source": [
    "#X_test, y_test = Data.drop(columns=['y']), Data['y']"
   ]
  },
  {
   "cell_type": "code",
   "execution_count": 9,
   "id": "c22a2612-887b-4288-b068-3a46c18163e9",
   "metadata": {},
   "outputs": [],
   "source": [
    "# Load the fitted labelencoder from local OS\n",
    "with open('pickle/OneHotEncoder.pkl', 'rb') as input_file:\n",
    "    encoder = pickle.load(input_file)\n",
    "\n",
    "    \n",
    "# Load the fitted labelencoder from local OS\n",
    "with open('pickle/PowerTransformer.pkl', 'rb') as input_file:\n",
    "    transformer = pickle.load(input_file)"
   ]
  },
  {
   "cell_type": "code",
   "execution_count": 10,
   "id": "46a52f18-0bac-4814-af6a-f4bca7460781",
   "metadata": {},
   "outputs": [],
   "source": [
    "# Load the fitted model from local OS\n",
    "with open('pickle/model.pkl', 'rb') as input_file:\n",
    "    model = pickle.load(input_file)"
   ]
  },
  {
   "cell_type": "code",
   "execution_count": 11,
   "id": "6dd5de7f-e6eb-4d5d-adf0-ea84821277bf",
   "metadata": {},
   "outputs": [],
   "source": [
    "#Separate numerical , and categorical variables \n",
    "\n",
    "#X_test_numeric_data = X_test.select_dtypes(include=[np.number])\n",
    "#X_test_categorical_data = X_test.select_dtypes(exclude=[np.number])"
   ]
  },
  {
   "cell_type": "code",
   "execution_count": 12,
   "id": "abec377d-ab2d-4797-bea9-0da25e945081",
   "metadata": {},
   "outputs": [],
   "source": [
    "#X_test_numeric_data.shape, X_test_categorical_data.shape"
   ]
  },
  {
   "cell_type": "code",
   "execution_count": 13,
   "id": "34477536-4ef8-437c-8041-d959ca9f5140",
   "metadata": {},
   "outputs": [],
   "source": [
    "#X_test_numeric_data = pd.DataFrame(data=transformer.transform(X_test_numeric_data), columns=X_test_numeric_data.columns)"
   ]
  },
  {
   "cell_type": "code",
   "execution_count": 14,
   "id": "47a781e9-1f87-4f35-9d83-c47fe3db6c32",
   "metadata": {},
   "outputs": [],
   "source": [
    "#X_test_categorical_data =pd.DataFrame(data=encoder.transform(X_test_categorical_data), columns=encoder.get_feature_names_out())"
   ]
  },
  {
   "cell_type": "code",
   "execution_count": 15,
   "id": "8c88f584-11eb-471c-b280-648219920fe9",
   "metadata": {},
   "outputs": [],
   "source": [
    "#pp_X_test = pd.merge(left=X_test_numeric_data, right=X_test_categorical_data, how='inner',left_index=True, right_index=True)"
   ]
  },
  {
   "cell_type": "code",
   "execution_count": 16,
   "id": "770da5b0-986b-4a3f-be3a-03e679038ae3",
   "metadata": {},
   "outputs": [],
   "source": [
    "#Preprosessing funtion\n",
    "\n",
    "pp_X_test , pp_y_test  = apply_pp.apply_preprocessing_V2(Data, is_training=False)"
   ]
  },
  {
   "cell_type": "code",
   "execution_count": 17,
   "id": "1179c6be-0ed8-4926-a182-d711dca4cab2",
   "metadata": {},
   "outputs": [
    {
     "data": {
      "text/html": [
       "<div>\n",
       "<style scoped>\n",
       "    .dataframe tbody tr th:only-of-type {\n",
       "        vertical-align: middle;\n",
       "    }\n",
       "\n",
       "    .dataframe tbody tr th {\n",
       "        vertical-align: top;\n",
       "    }\n",
       "\n",
       "    .dataframe thead th {\n",
       "        text-align: right;\n",
       "    }\n",
       "</style>\n",
       "<table border=\"1\" class=\"dataframe\">\n",
       "  <thead>\n",
       "    <tr style=\"text-align: right;\">\n",
       "      <th></th>\n",
       "      <th>age</th>\n",
       "      <th>campaign</th>\n",
       "      <th>pdays</th>\n",
       "      <th>previous</th>\n",
       "      <th>emp.var.rate</th>\n",
       "      <th>cons.price.idx</th>\n",
       "      <th>cons.conf.idx</th>\n",
       "      <th>euribor3m</th>\n",
       "      <th>nr.employed</th>\n",
       "      <th>job_admin.</th>\n",
       "      <th>...</th>\n",
       "      <th>month_oct</th>\n",
       "      <th>month_sep</th>\n",
       "      <th>day_of_week_fri</th>\n",
       "      <th>day_of_week_mon</th>\n",
       "      <th>day_of_week_thu</th>\n",
       "      <th>day_of_week_tue</th>\n",
       "      <th>day_of_week_wed</th>\n",
       "      <th>poutcome_failure</th>\n",
       "      <th>poutcome_nonexistent</th>\n",
       "      <th>poutcome_success</th>\n",
       "    </tr>\n",
       "  </thead>\n",
       "  <tbody>\n",
       "    <tr>\n",
       "      <th>0</th>\n",
       "      <td>0.776586</td>\n",
       "      <td>0.242840</td>\n",
       "      <td>0.193683</td>\n",
       "      <td>-0.396857</td>\n",
       "      <td>0.937673</td>\n",
       "      <td>1.633790</td>\n",
       "      <td>-0.228238</td>\n",
       "      <td>0.806925</td>\n",
       "      <td>0.983919</td>\n",
       "      <td>0.0</td>\n",
       "      <td>...</td>\n",
       "      <td>0.0</td>\n",
       "      <td>0.0</td>\n",
       "      <td>1.0</td>\n",
       "      <td>0.0</td>\n",
       "      <td>0.0</td>\n",
       "      <td>0.0</td>\n",
       "      <td>0.0</td>\n",
       "      <td>0.0</td>\n",
       "      <td>1.0</td>\n",
       "      <td>0.0</td>\n",
       "    </tr>\n",
       "    <tr>\n",
       "      <th>1</th>\n",
       "      <td>-0.494725</td>\n",
       "      <td>0.842104</td>\n",
       "      <td>0.193683</td>\n",
       "      <td>-0.396857</td>\n",
       "      <td>0.937673</td>\n",
       "      <td>1.633790</td>\n",
       "      <td>-0.228238</td>\n",
       "      <td>0.801665</td>\n",
       "      <td>0.983919</td>\n",
       "      <td>1.0</td>\n",
       "      <td>...</td>\n",
       "      <td>0.0</td>\n",
       "      <td>0.0</td>\n",
       "      <td>0.0</td>\n",
       "      <td>0.0</td>\n",
       "      <td>1.0</td>\n",
       "      <td>0.0</td>\n",
       "      <td>0.0</td>\n",
       "      <td>0.0</td>\n",
       "      <td>1.0</td>\n",
       "      <td>0.0</td>\n",
       "    </tr>\n",
       "    <tr>\n",
       "      <th>2</th>\n",
       "      <td>0.250361</td>\n",
       "      <td>1.939443</td>\n",
       "      <td>0.193683</td>\n",
       "      <td>-0.396857</td>\n",
       "      <td>0.937673</td>\n",
       "      <td>1.633790</td>\n",
       "      <td>-0.228238</td>\n",
       "      <td>0.799913</td>\n",
       "      <td>0.983919</td>\n",
       "      <td>0.0</td>\n",
       "      <td>...</td>\n",
       "      <td>0.0</td>\n",
       "      <td>0.0</td>\n",
       "      <td>1.0</td>\n",
       "      <td>0.0</td>\n",
       "      <td>0.0</td>\n",
       "      <td>0.0</td>\n",
       "      <td>0.0</td>\n",
       "      <td>0.0</td>\n",
       "      <td>1.0</td>\n",
       "      <td>0.0</td>\n",
       "    </tr>\n",
       "    <tr>\n",
       "      <th>3</th>\n",
       "      <td>-1.450172</td>\n",
       "      <td>0.242840</td>\n",
       "      <td>0.193683</td>\n",
       "      <td>-0.396857</td>\n",
       "      <td>-1.538419</td>\n",
       "      <td>-1.063955</td>\n",
       "      <td>-0.004091</td>\n",
       "      <td>-1.385958</td>\n",
       "      <td>-1.356117</td>\n",
       "      <td>1.0</td>\n",
       "      <td>...</td>\n",
       "      <td>0.0</td>\n",
       "      <td>0.0</td>\n",
       "      <td>1.0</td>\n",
       "      <td>0.0</td>\n",
       "      <td>0.0</td>\n",
       "      <td>0.0</td>\n",
       "      <td>0.0</td>\n",
       "      <td>0.0</td>\n",
       "      <td>1.0</td>\n",
       "      <td>0.0</td>\n",
       "    </tr>\n",
       "    <tr>\n",
       "      <th>4</th>\n",
       "      <td>-0.154778</td>\n",
       "      <td>1.183176</td>\n",
       "      <td>0.193683</td>\n",
       "      <td>-0.396857</td>\n",
       "      <td>0.937673</td>\n",
       "      <td>0.557030</td>\n",
       "      <td>-0.434609</td>\n",
       "      <td>0.798162</td>\n",
       "      <td>0.983919</td>\n",
       "      <td>0.0</td>\n",
       "      <td>...</td>\n",
       "      <td>0.0</td>\n",
       "      <td>0.0</td>\n",
       "      <td>0.0</td>\n",
       "      <td>0.0</td>\n",
       "      <td>0.0</td>\n",
       "      <td>0.0</td>\n",
       "      <td>1.0</td>\n",
       "      <td>0.0</td>\n",
       "      <td>1.0</td>\n",
       "      <td>0.0</td>\n",
       "    </tr>\n",
       "  </tbody>\n",
       "</table>\n",
       "<p>5 rows × 62 columns</p>\n",
       "</div>"
      ],
      "text/plain": [
       "        age  campaign     pdays  previous  emp.var.rate  cons.price.idx  \\\n",
       "0  0.776586  0.242840  0.193683 -0.396857      0.937673        1.633790   \n",
       "1 -0.494725  0.842104  0.193683 -0.396857      0.937673        1.633790   \n",
       "2  0.250361  1.939443  0.193683 -0.396857      0.937673        1.633790   \n",
       "3 -1.450172  0.242840  0.193683 -0.396857     -1.538419       -1.063955   \n",
       "4 -0.154778  1.183176  0.193683 -0.396857      0.937673        0.557030   \n",
       "\n",
       "   cons.conf.idx  euribor3m  nr.employed  job_admin.  ...  month_oct  \\\n",
       "0      -0.228238   0.806925     0.983919         0.0  ...        0.0   \n",
       "1      -0.228238   0.801665     0.983919         1.0  ...        0.0   \n",
       "2      -0.228238   0.799913     0.983919         0.0  ...        0.0   \n",
       "3      -0.004091  -1.385958    -1.356117         1.0  ...        0.0   \n",
       "4      -0.434609   0.798162     0.983919         0.0  ...        0.0   \n",
       "\n",
       "   month_sep  day_of_week_fri  day_of_week_mon  day_of_week_thu  \\\n",
       "0        0.0              1.0              0.0              0.0   \n",
       "1        0.0              0.0              0.0              1.0   \n",
       "2        0.0              1.0              0.0              0.0   \n",
       "3        0.0              1.0              0.0              0.0   \n",
       "4        0.0              0.0              0.0              0.0   \n",
       "\n",
       "   day_of_week_tue  day_of_week_wed  poutcome_failure  poutcome_nonexistent  \\\n",
       "0              0.0              0.0               0.0                   1.0   \n",
       "1              0.0              0.0               0.0                   1.0   \n",
       "2              0.0              0.0               0.0                   1.0   \n",
       "3              0.0              0.0               0.0                   1.0   \n",
       "4              0.0              1.0               0.0                   1.0   \n",
       "\n",
       "   poutcome_success  \n",
       "0               0.0  \n",
       "1               0.0  \n",
       "2               0.0  \n",
       "3               0.0  \n",
       "4               0.0  \n",
       "\n",
       "[5 rows x 62 columns]"
      ]
     },
     "execution_count": 17,
     "metadata": {},
     "output_type": "execute_result"
    }
   ],
   "source": [
    "pp_X_test.head()"
   ]
  },
  {
   "cell_type": "code",
   "execution_count": 18,
   "id": "e452593a-6b62-4e52-bb96-f981de1f7df1",
   "metadata": {},
   "outputs": [
    {
     "data": {
      "text/plain": [
       "0    0\n",
       "1    0\n",
       "2    0\n",
       "3    0\n",
       "4    0\n",
       "Name: y, dtype: int32"
      ]
     },
     "execution_count": 18,
     "metadata": {},
     "output_type": "execute_result"
    }
   ],
   "source": [
    "pp_y_test.head()"
   ]
  },
  {
   "cell_type": "code",
   "execution_count": 19,
   "id": "449621bd-7909-4f6c-8082-8d1bb1aa26e3",
   "metadata": {},
   "outputs": [],
   "source": [
    "y_pred = model.predict(X=pp_X_test)"
   ]
  },
  {
   "cell_type": "code",
   "execution_count": 20,
   "id": "5c92e174-02c3-40af-831c-9e0765799d51",
   "metadata": {},
   "outputs": [],
   "source": [
    "from sklearn.metrics import classification_report"
   ]
  },
  {
   "cell_type": "code",
   "execution_count": 21,
   "id": "9febf756-e16e-48b1-8424-5703328e0f17",
   "metadata": {},
   "outputs": [
    {
     "name": "stdout",
     "output_type": "stream",
     "text": [
      "              precision    recall  f1-score   support\n",
      "\n",
      "           0       0.91      0.90      0.91      7278\n",
      "           1       0.31      0.34      0.32       958\n",
      "\n",
      "    accuracy                           0.83      8236\n",
      "   macro avg       0.61      0.62      0.61      8236\n",
      "weighted avg       0.84      0.83      0.84      8236\n",
      "\n"
     ]
    }
   ],
   "source": [
    "print(classification_report(y_true=pp_y_test.astype('int').values, y_pred=y_pred))"
   ]
  },
  {
   "cell_type": "code",
   "execution_count": null,
   "id": "e91e8bf1-24f2-4aaf-9bbb-d693ed9f3aaa",
   "metadata": {},
   "outputs": [],
   "source": []
  },
  {
   "cell_type": "code",
   "execution_count": null,
   "id": "fb42c997-0ce9-4f49-a2eb-8cf503ce0a0e",
   "metadata": {},
   "outputs": [],
   "source": []
  },
  {
   "cell_type": "code",
   "execution_count": null,
   "id": "98914ff6-98c9-4da0-a3ee-0c3cf3ecc24c",
   "metadata": {},
   "outputs": [],
   "source": []
  },
  {
   "cell_type": "code",
   "execution_count": null,
   "id": "d84e79fb-c801-4e9e-8f69-70349e60f21a",
   "metadata": {},
   "outputs": [],
   "source": []
  }
 ],
 "metadata": {
  "kernelspec": {
   "display_name": "Python 3 (ipykernel)",
   "language": "python",
   "name": "python3"
  },
  "language_info": {
   "codemirror_mode": {
    "name": "ipython",
    "version": 3
   },
   "file_extension": ".py",
   "mimetype": "text/x-python",
   "name": "python",
   "nbconvert_exporter": "python",
   "pygments_lexer": "ipython3",
   "version": "3.9.12"
  },
  "widgets": {
   "application/vnd.jupyter.widget-state+json": {
    "state": {},
    "version_major": 2,
    "version_minor": 0
   }
  }
 },
 "nbformat": 4,
 "nbformat_minor": 5
}
