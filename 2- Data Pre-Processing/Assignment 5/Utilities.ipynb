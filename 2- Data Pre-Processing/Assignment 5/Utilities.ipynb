{
 "cells": [
  {
   "cell_type": "code",
   "execution_count": 3,
   "id": "5e3c2b23",
   "metadata": {},
   "outputs": [],
   "source": [
    "from yapf.yapflib.yapf_api import FormatCode\n",
    "\n",
    "import pandas as pd\n",
    "import numpy as np\n",
    "import matplotlib.pyplot as plt\n",
    "import missingno as msno\n",
    "import json\n",
    "\n",
    "from sklearn.model_selection import train_test_split\n",
    "from sklearn.preprocessing import MinMaxScaler\n",
    "from sklearn.preprocessing import OneHotEncoder \n",
    "from sklearn.preprocessing import PowerTransformer\n",
    "\n",
    "from sklearn.tree import DecisionTreeClassifier\n",
    "from sklearn.pipeline import make_pipeline\n",
    "\n",
    "import pickle\n",
    "from scipy.stats import norm\n",
    "import warnings\n",
    "warnings.filterwarnings(\"ignore\")\n",
    "\n",
    "\n",
    "\n",
    "\n",
    "def read_txt(file_name):\n",
    "    import codecs\n",
    "    ##Data_description = np.loadtxt(\"dataset_description.txt\", dtype=int)\n",
    "    #get file object\n",
    "    f = codecs.open(file_name, \"r\", errors=\"ignore\")\n",
    "   \n",
    "    while(True):\n",
    "        #read next line\n",
    "        line = f.readline()\n",
    "        #if line is empty, you are done with all lines in the file\n",
    "        if not line:\n",
    "            break\n",
    "        #you can access the line\n",
    "        print(line.strip())\n",
    "\n",
    "    #close file\n",
    "    f.close\n",
    "\n",
    "\n",
    "   "
   ]
  }
 ],
 "metadata": {
  "kernelspec": {
   "display_name": "Python 3 (ipykernel)",
   "language": "python",
   "name": "python3"
  },
  "language_info": {
   "codemirror_mode": {
    "name": "ipython",
    "version": 3
   },
   "file_extension": ".py",
   "mimetype": "text/x-python",
   "name": "python",
   "nbconvert_exporter": "python",
   "pygments_lexer": "ipython3",
   "version": "3.9.12"
  },
  "widgets": {
   "application/vnd.jupyter.widget-state+json": {
    "state": {},
    "version_major": 2,
    "version_minor": 0
   }
  }
 },
 "nbformat": 4,
 "nbformat_minor": 5
}
